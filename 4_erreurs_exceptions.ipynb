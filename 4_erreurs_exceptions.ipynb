{
 "cells": [
  {
   "metadata": {},
   "cell_type": "markdown",
   "source": [
    "# Erreurs et Exceptions\n",
    "\n",
    "En programmation, il y a deux types d'erreurs : les erreurs de syntaxe et les exceptions."
   ],
   "id": "83138be94230136a"
  },
  {
   "metadata": {},
   "cell_type": "markdown",
   "source": [
    "***\n",
    "## Erreurs de syntaxe\n",
    "Les erreurs de syntaxe sont des erreurs de frappe dans le code, qui empêchent le programme de s'exécuter.\n",
    "Il n'y aucun moyen de passer outre ces erreurs, il faut les corriger."
   ],
   "id": "71064e7cf29e155f"
  },
  {
   "metadata": {
    "ExecuteTime": {
     "end_time": "2024-10-08T13:15:31.008382Z",
     "start_time": "2024-10-08T13:15:31.001583Z"
    }
   },
   "cell_type": "code",
   "source": [
    "# Exemple d'erreur de syntaxe\n",
    "var11 = \"Bonjour\"\n",
    "try:\n",
    "    if var11 == \"Bonjour\":\n",
    "    print(\"Bonjour\")\n",
    "except IndentationError as e:\n",
    "    print(e)\n",
    "print(\"Après l'erreur!\")"
   ],
   "id": "b3926b2de83e1f95",
   "outputs": [
    {
     "ename": "IndentationError",
     "evalue": "expected an indented block after 'if' statement on line 4 (2368664154.py, line 5)",
     "output_type": "error",
     "traceback": [
      "\u001B[0;36m  Cell \u001B[0;32mIn[17], line 5\u001B[0;36m\u001B[0m\n\u001B[0;31m    print(\"Bonjour\")\u001B[0m\n\u001B[0m    ^\u001B[0m\n\u001B[0;31mIndentationError\u001B[0m\u001B[0;31m:\u001B[0m expected an indented block after 'if' statement on line 4\n"
     ]
    }
   ],
   "execution_count": 17
  },
  {
   "metadata": {},
   "cell_type": "markdown",
   "source": [
    "### Exercice 1\n",
    "\n",
    "Trouver un autre exemple d'erreur de syntaxe qui empêche le programme de s'exécuter."
   ],
   "id": "4eb351beb2190803"
  },
  {
   "metadata": {},
   "cell_type": "markdown",
   "source": [
    "Il n'y a aucune exécution après une erreur de syntaxe.\n",
    "Même si cette dernière est dans une exception.\n",
    "\n",
    "Vérifions maintenant le code erreur si ce code est exécuté dans un script :\n",
    "```bash\n",
    "$ python3 <<EOF\n",
    "# Exemple d'erreur de syntaxe\n",
    "var11 = \"Bonjour\"\n",
    "try:\n",
    "    if var11 == \"Bonjour\":\n",
    "    print(\"Bonjour\")\n",
    "except IndentationError as e:\n",
    "    print(e)\n",
    "print(\"Après l'erreur!\")\n",
    "EOF\n",
    "  File \"<stdin>\", line 5\n",
    "    print(\"Bonjour\")\n",
    "    ^\n",
    "IndentationError: expected an indented block after 'if' statement on line 4\n",
    "(venv) chrichri@chrichri-HKD-WXX:~/Documents/Serendip/C12$ echo \"Last return code is $?\"\n",
    "$ echo \"Last return code is $?\"\n",
    "Last return code is 1\n",
    "```\n",
    "\n",
    "Le programme a terminé en erreur, avec un code de retour 1."
   ],
   "id": "7c743a55c97b8eb"
  },
  {
   "metadata": {},
   "cell_type": "markdown",
   "source": [
    "***\n",
    "## Exceptions\n",
    "\n",
    "Une exception peut être levée à tout moment dans un programme.\n",
    "Mais il est possible de les intercepter et de les traiter.\n",
    "Cette interception se fait avec les mots clé `try` et `except`.\n",
    "L'équivalent du plus fameux `try` et `catch` dans les autres langages de programmation.\n",
    "\n",
    "Il est possible de lever une exception avec le mot clé `raise`.\n",
    "\n",
    "Et de créer sa propre exception par héritage de la classe exception.\n",
    "\n",
    "### Les exceptions built-in de Python\n",
    "\n",
    "Selon la documentation https://docs.python.org/3/library/exceptions.html#exception-hierarchy, il existe de nombreuses exceptions built-in dans Python.\n",
    "\n",
    "```\n",
    "BaseException\n",
    " ├── BaseExceptionGroup\n",
    " ├── GeneratorExit\n",
    " ├── KeyboardInterrupt\n",
    " ├── SystemExit\n",
    " └── Exception\n",
    "      ├── ArithmeticError\n",
    "      │    ├── FloatingPointError\n",
    "      │    ├── OverflowError\n",
    "      │    └── ZeroDivisionError\n",
    "      ├── AssertionError\n",
    "      ├── AttributeError\n",
    "      ├── BufferError\n",
    "      ├── EOFError\n",
    "      ├── ExceptionGroup [BaseExceptionGroup]\n",
    "      ├── ImportError\n",
    "      │    └── ModuleNotFoundError\n",
    "      ├── LookupError\n",
    "      │    ├── IndexError\n",
    "      │    └── KeyError\n",
    "      ├── MemoryError\n",
    "      ├── NameError\n",
    "      │    └── UnboundLocalError\n",
    "      ├── OSError\n",
    "      │    ├── BlockingIOError\n",
    "      │    ├── ChildProcessError\n",
    "      │    ├── ConnectionError\n",
    "      │    │    ├── BrokenPipeError\n",
    "      │    │    ├── ConnectionAbortedError\n",
    "      │    │    ├── ConnectionRefusedError\n",
    "      │    │    └── ConnectionResetError\n",
    "      │    ├── FileExistsError\n",
    "      │    ├── FileNotFoundError\n",
    "      │    ├── InterruptedError\n",
    "      │    ├── IsADirectoryError\n",
    "      │    ├── NotADirectoryError\n",
    "      │    ├── PermissionError\n",
    "      │    ├── ProcessLookupError\n",
    "      │    └── TimeoutError\n",
    "      ├── ReferenceError\n",
    "      ├── RuntimeError\n",
    "      │    ├── NotImplementedError\n",
    "      │    ├── PythonFinalizationError\n",
    "      │    └── RecursionError\n",
    "      ├── StopAsyncIteration\n",
    "      ├── StopIteration\n",
    "      ├── SyntaxError\n",
    "      │    └── IndentationError\n",
    "      │         └── TabError\n",
    "      ├── SystemError\n",
    "      ├── TypeError\n",
    "      ├── ValueError\n",
    "      │    └── UnicodeError\n",
    "      │         ├── UnicodeDecodeError\n",
    "      │         ├── UnicodeEncodeError\n",
    "      │         └── UnicodeTranslateError\n",
    "      └── Warning\n",
    "           ├── BytesWarning\n",
    "           ├── DeprecationWarning\n",
    "           ├── EncodingWarning\n",
    "           ├── FutureWarning\n",
    "           ├── ImportWarning\n",
    "           ├── PendingDeprecationWarning\n",
    "           ├── ResourceWarning\n",
    "           ├── RuntimeWarning\n",
    "           ├── SyntaxWarning\n",
    "           ├── UnicodeWarning\n",
    "           └── UserWarning\n",
    "```\n",
    "Nous n'allons pouvoir les traiter toutes, veuillez vous référer à la documentation pour plus d'informations.\n",
    "**RTFM** ! Comme on dit...\n",
    "\n",
    "Built-in veut dire qu'on peut les utiliser à tout moment, sans les importer.\n",
    "\n",
    "⚠️ Ce sont toutes des exceptions, même si elles finissent par `Warning`, `Error` ou `Exception`."
   ],
   "id": "f28a02845f5b5c82"
  },
  {
   "metadata": {
    "ExecuteTime": {
     "end_time": "2024-10-08T13:15:31.073029Z",
     "start_time": "2024-10-08T13:15:31.066608Z"
    }
   },
   "cell_type": "code",
   "source": [
    "# Exemple d'exception\n",
    "\n",
    "# Lire un fichier qui n'existe pas et faire un display de l'erreur en standard erreur\n",
    "import sys\n",
    "\n",
    "try:\n",
    "    with open('data_20991231.csv') as f:\n",
    "        content = f.read()\n",
    "except FileNotFoundError as e:\n",
    "    print(e, file=sys.stderr)\n",
    "    print(\"No data, leaving program\", file=sys.stderr)\n",
    "    exit(0)"
   ],
   "id": "5a07053ac4ce88b",
   "outputs": [
    {
     "name": "stderr",
     "output_type": "stream",
     "text": [
      "[Errno 2] No such file or directory: 'data_20991231.csv'\n",
      "No data, leaving program\n"
     ]
    }
   ],
   "execution_count": 18
  },
  {
   "metadata": {
    "ExecuteTime": {
     "end_time": "2024-10-08T13:15:31.092070Z",
     "start_time": "2024-10-08T13:15:31.086601Z"
    }
   },
   "cell_type": "code",
   "source": [
    "# Dans le cas d'opération arithmétique, controller une division par zéro\n",
    "import sys\n",
    "\n",
    "try:\n",
    "    1 / 0\n",
    "except ZeroDivisionError as e:\n",
    "    print(e, file=sys.stderr)\n",
    "    print(\"Check the input data\", file=sys.stderr)\n",
    "    exit(1)"
   ],
   "id": "66f02b87255680be",
   "outputs": [
    {
     "name": "stderr",
     "output_type": "stream",
     "text": [
      "division by zero\n",
      "Check the input data\n"
     ]
    }
   ],
   "execution_count": 19
  },
  {
   "metadata": {},
   "cell_type": "markdown",
   "source": "On peut aussi intercepter plusieurs exceptions en même temps :",
   "id": "4801aad6b10eae08"
  },
  {
   "metadata": {
    "jupyter": {
     "is_executing": true
    }
   },
   "cell_type": "code",
   "source": [
    "# Exemple d'exception multiple\n",
    "import sys\n",
    "import os\n",
    "\n",
    "try:\n",
    "    os.chdir('financial')\n",
    "    # Read file in a directory\n",
    "    with open('data_20991231.csv') as f:\n",
    "        content = f.read()\n",
    "except (NotADirectoryError, FileNotFoundError) as e:\n",
    "    print(e, file=sys.stderr)\n",
    "    print(\"No data, leaving program\", file=sys.stderr)"
   ],
   "id": "b97b8749d4a85349",
   "outputs": [],
   "execution_count": null
  },
  {
   "metadata": {},
   "cell_type": "markdown",
   "source": "Ou les intercepter les unes à la suite des autres :",
   "id": "57da9e39f78cca78"
  },
  {
   "metadata": {
    "jupyter": {
     "is_executing": true
    }
   },
   "cell_type": "code",
   "source": [
    "# Exemple d'exception multiple\n",
    "import sys\n",
    "import os\n",
    "\n",
    "try:\n",
    "    os.chdir('financial')\n",
    "    # Read file in a directory\n",
    "    with open('data_20991231.csv') as f:\n",
    "        content = f.read()\n",
    "except NotADirectoryError as e:\n",
    "    print(e, file=sys.stderr)\n",
    "    exit(0)\n",
    "except FileNotFoundError as e:\n",
    "    print(e, file=sys.stderr)\n",
    "    exit(1)"
   ],
   "id": "905b2cd80af91f73",
   "outputs": [],
   "execution_count": null
  },
  {
   "metadata": {},
   "cell_type": "markdown",
   "source": [
    "On peut intercepter de la même manière une exception parente, donc plus générique.\n",
    "Une exception parente est dont a hérité directement ou indirectement une exception.\n",
    "\n",
    "Par exemple, on voit que `FileNotFoundError` et `NotADirectory` héritent de `OSError` :\n",
    "\n",
    "```bash\n",
    "BaseException\n",
    "...\n",
    " └── Exception\n",
    "...\n",
    "      ├── OSError\n",
    "...\n",
    "      │    ├── FileExistsError\n",
    "      │    ├── FileNotFoundError\n",
    "      │    ├── InterruptedError\n",
    "      │    ├── IsADirectoryError\n",
    "...\n",
    "```\n",
    "\n",
    "On peut donc réécrire le code précédent de la manière suivante :"
   ],
   "id": "a6e8b7d19d682fcd"
  },
  {
   "metadata": {
    "ExecuteTime": {
     "end_time": "2024-10-08T13:15:33.201568Z",
     "start_time": "2024-10-08T13:15:33.194014Z"
    }
   },
   "cell_type": "code",
   "source": [
    "# Exemple d'exception multiple\n",
    "import sys\n",
    "import os\n",
    "\n",
    "try:\n",
    "    os.chdir('financial')\n",
    "    # Read file in a directory\n",
    "    with open('data_20991231.csv') as f:\n",
    "        content = f.read()\n",
    "except OSError as e:\n",
    "    print(e, file=sys.stderr)\n",
    "    print(\"No data, leaving program\", file=sys.stderr)"
   ],
   "id": "dcfc367aedca2f13",
   "outputs": [
    {
     "name": "stderr",
     "output_type": "stream",
     "text": [
      "[Errno 2] No such file or directory: 'financial'\n",
      "No data, leaving program\n"
     ]
    }
   ],
   "execution_count": 1
  },
  {
   "metadata": {},
   "cell_type": "markdown",
   "source": "⚠️ Cependant, il est recommandé d'être le plus spécifique possible dans le traitement des exceptions.",
   "id": "170b0e6c54eed152"
  },
  {
   "metadata": {},
   "cell_type": "markdown",
   "source": [
    "Si aucune Exception n'est passée à la clause `except`, alors toutes les exceptions seront interceptées.\n",
    "C'est une sorte de wildcard :"
   ],
   "id": "fd956b1fe64209e9"
  },
  {
   "metadata": {
    "ExecuteTime": {
     "end_time": "2024-10-08T13:15:33.213083Z",
     "start_time": "2024-10-08T13:15:33.204825Z"
    }
   },
   "cell_type": "code",
   "source": [
    "try:\n",
    "    f = open('my_file.txt')\n",
    "    s = f.readline()\n",
    "    i = int(s.strip())\n",
    "except IOError as e:\n",
    "    print(\"I/O error(%s): %s\" % (e.errno, e.strerror), file=sys.stderr)\n",
    "    print(e, file=sys.stderr)\n",
    "except ValueError:\n",
    "    print(\"Could not convert data to an integer.\", file=sys.stderr)\n",
    "except:\n",
    "    print(\"Unexpected error:\", sys.exc_info()[0], file=sys.stderr)\n",
    "    raise\n"
   ],
   "id": "ccd27e5b0e917dcc",
   "outputs": [
    {
     "name": "stderr",
     "output_type": "stream",
     "text": [
      "I/O error(2): No such file or directory\n",
      "[Errno 2] No such file or directory: 'myfile.txt'\n"
     ]
    }
   ],
   "execution_count": 2
  },
  {
   "metadata": {},
   "cell_type": "markdown",
   "source": "⚠️ On remarque ici que les exceptions peuvent avoir des attributs particuliers, comme `errno` et `strerror` pour `IOError`.",
   "id": "b2f870b5e8bd38"
  },
  {
   "metadata": {},
   "cell_type": "markdown",
   "source": [
    "### Créer sa propre exception\n",
    "\n",
    "Dans de nombreux certains cas, il est nécessaire d'avoir une exception propre à son application."
   ],
   "id": "934a37bcdd5b8ecf"
  },
  {
   "metadata": {
    "ExecuteTime": {
     "end_time": "2024-10-08T13:15:33.221653Z",
     "start_time": "2024-10-08T13:15:33.215531Z"
    }
   },
   "cell_type": "code",
   "source": [
    "import sys\n",
    "\n",
    "\n",
    "class IsNotOddException(Exception):\n",
    "    pass  # Rien à ajouter, on hérite de la classe Exception\n",
    "\n",
    "\n",
    "for i in range(10):\n",
    "    try:\n",
    "        if i % 2 == 0:\n",
    "            raise IsNotOddException(f\"{i} is not odd\")\n",
    "    except IsNotOddException as e:\n",
    "        print(e, file=sys.stderr)"
   ],
   "id": "8014637af8c2a5db",
   "outputs": [
    {
     "name": "stderr",
     "output_type": "stream",
     "text": [
      "0 is not odd\n",
      "2 is not odd\n",
      "4 is not odd\n",
      "6 is not odd\n",
      "8 is not odd\n"
     ]
    }
   ],
   "execution_count": 3
  },
  {
   "metadata": {},
   "cell_type": "markdown",
   "source": [
    "### Exercice 2\n",
    "\n",
    "Créer une exception `IsEvenException` qui sera levée si un nombre passé en input est pair dans un algorithme qui doit vérifier si un nombre est premier.\n",
    "Une autre appelée `IsNegativeException` si le nombre est négatif.\n",
    "Développer cela dans un script appelé `is_prime.py`, il prend en input un entier print si le nombre positif et impair est premier ou non dans le terminal.\n",
    "\n",
    "- Attention aux commentaires\n",
    "- Attention aux noms de variables.  \n",
    "*Faites valider votre script ainsi que son exécution*. "
   ],
   "id": "fbb0f76853c9565f"
  }
 ],
 "metadata": {
  "kernelspec": {
   "display_name": "Python 3",
   "language": "python",
   "name": "python3"
  },
  "language_info": {
   "codemirror_mode": {
    "name": "ipython",
    "version": 2
   },
   "file_extension": ".py",
   "mimetype": "text/x-python",
   "name": "python",
   "nbconvert_exporter": "python",
   "pygments_lexer": "ipython2",
   "version": "2.7.6"
  }
 },
 "nbformat": 4,
 "nbformat_minor": 5
}
