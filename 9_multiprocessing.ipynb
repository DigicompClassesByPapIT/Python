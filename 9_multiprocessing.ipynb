{
 "cells": [
  {
   "cell_type": "markdown",
   "metadata": {
    "slideshow": {
     "slide_type": "slide"
    }
   },
   "source": [
    "# Multiprocessing\n",
    "\n",
    "Combien ai-je de processeurs ?"
   ]
  },
  {
   "cell_type": "code",
   "metadata": {
    "execution": {
     "iopub.execute_input": "2020-09-12T14:00:18.953819Z",
     "iopub.status.busy": "2020-09-12T14:00:18.951632Z",
     "iopub.status.idle": "2020-09-12T14:00:18.957722Z",
     "shell.execute_reply": "2020-09-12T14:00:18.958270Z"
    },
    "slideshow": {
     "slide_type": "fragment"
    },
    "ExecuteTime": {
     "end_time": "2024-10-12T09:22:08.186656Z",
     "start_time": "2024-10-12T09:22:08.179938Z"
    }
   },
   "source": [
    "from multiprocessing import cpu_count\n",
    "\n",
    "cpu_count()"
   ],
   "outputs": [
    {
     "data": {
      "text/plain": [
       "8"
      ]
     },
     "execution_count": 78,
     "metadata": {},
     "output_type": "execute_result"
    }
   ],
   "execution_count": 78
  },
  {
   "cell_type": "markdown",
   "metadata": {
    "slideshow": {
     "slide_type": "slide"
    }
   },
   "source": "## Exemple d'une map"
  },
  {
   "cell_type": "code",
   "metadata": {
    "execution": {
     "iopub.execute_input": "2020-09-12T14:00:18.964908Z",
     "iopub.status.busy": "2020-09-12T14:00:18.964025Z",
     "iopub.status.idle": "2020-09-12T14:00:18.967841Z",
     "shell.execute_reply": "2020-09-12T14:00:18.967311Z"
    },
    "slideshow": {
     "slide_type": "fragment"
    },
    "ExecuteTime": {
     "end_time": "2024-10-12T09:22:08.273092Z",
     "start_time": "2024-10-12T09:22:08.266381Z"
    }
   },
   "source": [
    "def delayed_square(x):\n",
    "    sleep(1)\n",
    "    return x * x\n",
    "\n",
    "\n",
    "data = list(range(8))\n",
    "data"
   ],
   "outputs": [
    {
     "data": {
      "text/plain": [
       "[0, 1, 2, 3, 4, 5, 6, 7]"
      ]
     },
     "execution_count": 79,
     "metadata": {},
     "output_type": "execute_result"
    }
   ],
   "execution_count": 79
  },
  {
   "cell_type": "code",
   "metadata": {
    "execution": {
     "iopub.execute_input": "2020-09-12T14:00:18.972938Z",
     "iopub.status.busy": "2020-09-12T14:00:18.972191Z",
     "iopub.status.idle": "2020-09-12T14:00:27.011091Z",
     "shell.execute_reply": "2020-09-12T14:00:27.011676Z"
    },
    "slideshow": {
     "slide_type": "fragment"
    },
    "ExecuteTime": {
     "end_time": "2024-10-12T09:22:16.332708Z",
     "start_time": "2024-10-12T09:22:08.321223Z"
    }
   },
   "source": [
    "%time sum(delayed_square(x) for x in data)"
   ],
   "outputs": [
    {
     "name": "stdout",
     "output_type": "stream",
     "text": [
      "CPU times: user 686 μs, sys: 3.28 ms, total: 3.97 ms\n",
      "Wall time: 8 s\n"
     ]
    },
    {
     "data": {
      "text/plain": [
       "140"
      ]
     },
     "execution_count": 80,
     "metadata": {},
     "output_type": "execute_result"
    }
   ],
   "execution_count": 80
  },
  {
   "cell_type": "code",
   "metadata": {
    "execution": {
     "iopub.execute_input": "2020-09-12T14:00:27.016783Z",
     "iopub.status.busy": "2020-09-12T14:00:27.016032Z",
     "iopub.status.idle": "2020-09-12T14:00:35.051765Z",
     "shell.execute_reply": "2020-09-12T14:00:35.051096Z"
    },
    "slideshow": {
     "slide_type": "fragment"
    },
    "ExecuteTime": {
     "end_time": "2024-10-12T09:22:24.343041Z",
     "start_time": "2024-10-12T09:22:16.335650Z"
    }
   },
   "source": [
    "%time sum(map(delayed_square,data))"
   ],
   "outputs": [
    {
     "name": "stdout",
     "output_type": "stream",
     "text": [
      "CPU times: user 1.1 ms, sys: 2.02 ms, total: 3.12 ms\n",
      "Wall time: 8 s\n"
     ]
    },
    {
     "data": {
      "text/plain": [
       "140"
      ]
     },
     "execution_count": 81,
     "metadata": {},
     "output_type": "execute_result"
    }
   ],
   "execution_count": 81
  },
  {
   "cell_type": "markdown",
   "metadata": {
    "slideshow": {
     "slide_type": "fragment"
    }
   },
   "source": "Nous pouvons traiter chaque appel à `delayed_square` de manière indépendante et en parallèle. Pour ce faire, nous appliquerons cette fonction à tous les éléments de la liste en parallèle en utilisant plusieurs processus."
  },
  {
   "cell_type": "markdown",
   "metadata": {
    "slideshow": {
     "slide_type": "slide"
    }
   },
   "source": [
    "## Multiprocessing\n",
    "\n",
    "- Le multiprocessing permet au programmeur de tirer pleinement parti de plusieurs processeurs.\n",
    "- L'objet `Pool` parallélise l'exécution d'une fonction sur plusieurs valeurs d'entrée.\n",
    "- La partie `if __name__ == '__main__'` est nécessaire.\n",
    "⚠️ Le programme suivant ne fonctionne pas dans une cellule, vous devez l'enregistrer et l'exécuter avec python dans un terminal.\n",
    "\n",
    "```bash\n",
    "python3 pool.py\n",
    "```"
   ]
  },
  {
   "cell_type": "code",
   "metadata": {
    "execution": {
     "iopub.execute_input": "2020-09-12T14:00:35.058212Z",
     "iopub.status.busy": "2020-09-12T14:00:35.056974Z",
     "iopub.status.idle": "2020-09-12T14:00:35.060786Z",
     "shell.execute_reply": "2020-09-12T14:00:35.061358Z"
    },
    "slideshow": {
     "slide_type": "fragment"
    },
    "ExecuteTime": {
     "end_time": "2024-10-12T09:22:24.353191Z",
     "start_time": "2024-10-12T09:22:24.345642Z"
    }
   },
   "source": [
    "%%file pool.py\n",
    "\n",
    "from time import time, sleep\n",
    "\n",
    "from multiprocessing import Pool\n",
    "\n",
    "\n",
    "def delayed_square(x):\n",
    "    sleep(1)\n",
    "    return x * x\n",
    "\n",
    "\n",
    "if __name__ == '__main__':  # Executed only on main process.\n",
    "    start = time()\n",
    "    data = list(range(8))\n",
    "    with Pool() as process_pool:\n",
    "        result = sum(process_pool.map(delayed_square, data))\n",
    "    stop = time()\n",
    "    print(f\"result = {result} - Elapsed time {stop - start}\")"
   ],
   "outputs": [
    {
     "name": "stdout",
     "output_type": "stream",
     "text": [
      "Overwriting pool.py\n"
     ]
    }
   ],
   "execution_count": 82
  },
  {
   "cell_type": "code",
   "metadata": {
    "execution": {
     "iopub.execute_input": "2020-09-12T14:00:35.067034Z",
     "iopub.status.busy": "2020-09-12T14:00:35.065862Z",
     "iopub.status.idle": "2020-09-12T14:00:37.354115Z",
     "shell.execute_reply": "2020-09-12T14:00:37.354706Z"
    },
    "ExecuteTime": {
     "end_time": "2024-10-12T09:22:25.686142Z",
     "start_time": "2024-10-12T09:22:24.357001Z"
    }
   },
   "source": "!{sys.executable} pool.py",
   "outputs": [
    {
     "name": "stdout",
     "output_type": "stream",
     "text": [
      "result = 140 - Elapsed time 1.042806625366211\r\n"
     ]
    }
   ],
   "execution_count": 83
  },
  {
   "metadata": {},
   "cell_type": "markdown",
   "source": [
    "On voit que l'on passe de 8 secondes à 1 seconde pour le calcul.\n",
    "L'exécution est donc bien concurrente."
   ]
  },
  {
   "metadata": {},
   "cell_type": "markdown",
   "source": [
    "### Exercice 1\n",
    "\n",
    "Développer le script `cube.py` qui calcule la somme des cubes des 100 premiers entiers en utilisant un pool de processus.\n",
    "Le script ne doit utiliser que 4 CPU en parallèle maximum.\n",
    "\n",
    "- Attention aux commentaires\n",
    "- Attention aux noms de variables.  \n",
    "*Faites valider votre script ainsi que son exécution*. "
   ]
  },
  {
   "metadata": {},
   "cell_type": "markdown",
   "source": [
    "On voit que `multiprocessing.Pool.map` est utile car il permet de retourner les résultats dans l'ordre des arguments.\n",
    "Ci-dessous les process s'exécutent en parallèle et le résultat n'est pas retourné."
   ]
  },
  {
   "metadata": {
    "ExecuteTime": {
     "end_time": "2024-10-12T09:22:26.754061Z",
     "start_time": "2024-10-12T09:22:25.688896Z"
    }
   },
   "cell_type": "code",
   "source": [
    "from multiprocessing import Process\n",
    "from time import time, sleep\n",
    "\n",
    "\n",
    "class DelayedSquareProcess(Process):\n",
    "    def __init__(self, x):\n",
    "        super().__init__()\n",
    "        self.x = x\n",
    "        self.res = 0\n",
    "\n",
    "    def run(self):\n",
    "        sleep(1)\n",
    "        self.res = self.x * self.x\n",
    "\n",
    "\n",
    "if __name__ == '__main__':\n",
    "    start = time()\n",
    "    processes = [DelayedSquareProcess(x) for x in range(8)]\n",
    "    for process in processes:\n",
    "        process.start()\n",
    "    for process in processes:\n",
    "        process.join()\n",
    "    result = sum(process.res for process in processes)\n",
    "    stop = time()\n",
    "    print(f\"result = {result} - Elapsed time {stop - start}\")"
   ],
   "outputs": [
    {
     "name": "stdout",
     "output_type": "stream",
     "text": [
      "result = 0 - Elapsed time 1.0556557178497314\n"
     ]
    }
   ],
   "execution_count": 84
  },
  {
   "metadata": {},
   "cell_type": "markdown",
   "source": [
    "Cette syntaxe n'est donc utile que pour les effets secondaires, appels réseaux, écriture de fichiers, etc.\n",
    "\n",
    "Comment donc faire utiliser les résultats d'un process et faire communiquer ces derniers entre eux ?"
   ]
  },
  {
   "metadata": {},
   "cell_type": "markdown",
   "source": [
    "## Queue\n",
    "\n",
    "- `multiprocessing.Queue` est une structure de données partagée entre les processus.\n",
    "- Il est utilisé pour la communication entre les processus.\n",
    "- Il est similaire à la classe `queue.Queue` de la bibliothèque standard et son API est similaire.\n",
    "- Il permet d'avoir le retour d'un process\n",
    "\n",
    "Par exemple ci-dessous 2 process cherchent en parallèle des informations sur des cryptomonnaies.\n",
    "Ils le font en parallèle pour réduire le temps de réponse.\n",
    "Ils stockent les résultats dans une queue."
   ]
  },
  {
   "metadata": {
    "ExecuteTime": {
     "end_time": "2024-10-12T09:22:27.397274Z",
     "start_time": "2024-10-12T09:22:26.757121Z"
    }
   },
   "cell_type": "code",
   "source": [
    "import requests\n",
    "from multiprocessing import Process, Queue\n",
    "\n",
    "\n",
    "def fetch_coincap(queue: Queue):\n",
    "    response = requests.get(\"https://api.coincap.io/v2/assets\")\n",
    "    queue.put(response.json())\n",
    "    # Pas de return, le résultat dans la queue\n",
    "\n",
    "\n",
    "def fetch_coindesk(queue: Queue):\n",
    "    response = requests.get(\"https://api.coindesk.com/v1/bpi/currentprice.json\")\n",
    "    queue.put(response.json())\n",
    "    # Pas de return, le résultat dans la queue\n",
    "\n",
    "\n",
    "if __name__ == '__main__':\n",
    "    queue = Queue()\n",
    "    coincap_process = Process(target=fetch_coincap, args=(queue,))\n",
    "    coindesk_process = Process(target=fetch_coindesk, args=(queue,))\n",
    "    coincap_process.start()\n",
    "    coindesk_process.start()\n",
    "    # Join after both starts !!!!!\n",
    "    coincap_process.join()\n",
    "    coindesk_process.join()\n",
    "    print(queue.get())\n",
    "    print(queue.get())"
   ],
   "outputs": [
    {
     "name": "stdout",
     "output_type": "stream",
     "text": [
      "{'time': {'updated': 'Oct 12, 2024 09:22:17 UTC', 'updatedISO': '2024-10-12T09:22:17+00:00', 'updateduk': 'Oct 12, 2024 at 10:22 BST'}, 'disclaimer': 'This data was produced from the CoinDesk Bitcoin Price Index (USD). Non-USD currency data converted using hourly conversion rate from openexchangerates.org', 'chartName': 'Bitcoin', 'bpi': {'USD': {'code': 'USD', 'symbol': '&#36;', 'rate': '62,756.654', 'description': 'United States Dollar', 'rate_float': 62756.6537}, 'GBP': {'code': 'GBP', 'symbol': '&pound;', 'rate': '48,019.446', 'description': 'British Pound Sterling', 'rate_float': 48019.4459}, 'EUR': {'code': 'EUR', 'symbol': '&euro;', 'rate': '57,348.097', 'description': 'Euro', 'rate_float': 57348.097}}}\n",
      "{'data': [{'id': 'bitcoin', 'rank': '1', 'symbol': 'BTC', 'name': 'Bitcoin', 'supply': '19766531.0000000000000000', 'maxSupply': '21000000.0000000000000000', 'marketCapUsd': '1239658689885.2565149018558218', 'volumeUsd24Hr': '13614759305.6892261848141137', 'priceUsd': '62715.0353233582824878', 'changePercent24Hr': '3.0160278571262654', 'vwap24Hr': '62272.2703901479551766', 'explorer': 'https://blockchain.info/'}, {'id': 'ethereum', 'rank': '2', 'symbol': 'ETH', 'name': 'Ethereum', 'supply': '120382196.3009999000000000', 'maxSupply': None, 'marketCapUsd': '294485114852.9584924266000564', 'volumeUsd24Hr': '6269676542.5274966997047466', 'priceUsd': '2446.2513885079573487', 'changePercent24Hr': '1.4003779610098851', 'vwap24Hr': '2439.1964176181768962', 'explorer': 'https://etherscan.io/'}, {'id': 'tether', 'rank': '3', 'symbol': 'USDT', 'name': 'Tether', 'supply': '119736504562.8483000000000000', 'maxSupply': None, 'marketCapUsd': '119730715572.6990749180924840', 'volumeUsd24Hr': '13182515078.7671833420631656', 'priceUsd': '0.9999516522536685', 'changePercent24Hr': '0.0418572021148912', 'vwap24Hr': '0.9997347711024461', 'explorer': 'https://www.omniexplorer.info/asset/31'}, {'id': 'binance-coin', 'rank': '4', 'symbol': 'BNB', 'name': 'BNB', 'supply': '166801148.0000000000000000', 'maxSupply': '166801148.0000000000000000', 'marketCapUsd': '95993868848.3982842149360864', 'volumeUsd24Hr': '181526394.2938957430910243', 'priceUsd': '575.4988499743316168', 'changePercent24Hr': '1.8505579526923085', 'vwap24Hr': '573.1729032931921921', 'explorer': 'https://etherscan.io/token/0xB8c77482e45F1F44dE1745F52C74426C631bDD52'}, {'id': 'solana', 'rank': '5', 'symbol': 'SOL', 'name': 'Solana', 'supply': '469656246.9849523000000000', 'maxSupply': None, 'marketCapUsd': '68389591200.3506797410763116', 'volumeUsd24Hr': '525942859.6447656468187874', 'priceUsd': '145.6162707073326115', 'changePercent24Hr': '2.5932030175852516', 'vwap24Hr': '144.2213072372136681', 'explorer': 'https://explorer.solana.com/'}, {'id': 'usd-coin', 'rank': '6', 'symbol': 'USDC', 'name': 'USDC', 'supply': '34976376367.4672600000000000', 'maxSupply': None, 'marketCapUsd': '34989045250.3313184796932187', 'volumeUsd24Hr': '1839018781.2150113101727182', 'priceUsd': '1.0003622125611572', 'changePercent24Hr': '-0.0038249582997439', 'vwap24Hr': '0.9999873418586164', 'explorer': 'https://etherscan.io/token/0xa0b86991c6218b36c1d19d4a2e9eb0ce3606eb48'}, {'id': 'xrp', 'rank': '7', 'symbol': 'XRP', 'name': 'XRP', 'supply': '45404028640.0000000000000000', 'maxSupply': '100000000000.0000000000000000', 'marketCapUsd': '24458380823.5054030362654080', 'volumeUsd24Hr': '278520598.7718481253098390', 'priceUsd': '0.5386830542600372', 'changePercent24Hr': '0.0511878227480578', 'vwap24Hr': '0.5375788121218094', 'explorer': 'https://xrpcharts.ripple.com/#/graph/'}, {'id': 'steth', 'rank': '8', 'symbol': 'STETH', 'name': 'Lido Staked ETH', 'supply': '9727191.7648064900000000', 'maxSupply': None, 'marketCapUsd': '23756764551.6777543463057000', 'volumeUsd24Hr': '281374.7921287916915163', 'priceUsd': '2442.3045341442761920', 'changePercent24Hr': '1.7489712505475094', 'vwap24Hr': '2437.4337408279820296', 'explorer': 'https://etherscan.io/token/0xae7ab96520de3a18e5e111b5eaab095312d7fe84'}, {'id': 'dogecoin', 'rank': '9', 'symbol': 'DOGE', 'name': 'Dogecoin', 'supply': '146332916383.7052000000000000', 'maxSupply': None, 'marketCapUsd': '16252946980.3237860343388445', 'volumeUsd24Hr': '231715299.6348004122073127', 'priceUsd': '0.1110682912770378', 'changePercent24Hr': '2.6559031176223972', 'vwap24Hr': '0.1099797255435298', 'explorer': 'http://dogechain.info/chain/Dogecoin'}, {'id': 'tron', 'rank': '10', 'symbol': 'TRX', 'name': 'TRON', 'supply': '86554792830.0278300000000000', 'maxSupply': None, 'marketCapUsd': '14105746507.3687715657430482', 'volumeUsd24Hr': '158928413.2171513579831817', 'priceUsd': '0.1629689823770818', 'changePercent24Hr': '2.3702106104774867', 'vwap24Hr': '0.1605450490796604', 'explorer': 'https://tronscan.org/#/'}, {'id': 'cardano', 'rank': '11', 'symbol': 'ADA', 'name': 'Cardano', 'supply': '34967190801.5438840000000000', 'maxSupply': '45000000000.0000000000000000', 'marketCapUsd': '12338487528.0659175339483428', 'volumeUsd24Hr': '76862660.5937424936302394', 'priceUsd': '0.3528589871028800', 'changePercent24Hr': '1.9466791133537816', 'vwap24Hr': '0.3507071879182811', 'explorer': 'https://cardanoexplorer.com/'}, {'id': 'avalanche', 'rank': '12', 'symbol': 'AVAX', 'name': 'Avalanche', 'supply': '406591705.3235883000000000', 'maxSupply': '715748719.0000000000000000', 'marketCapUsd': '11479508866.6865586277081817', 'volumeUsd24Hr': '159302236.4788915639231886', 'priceUsd': '28.2335048068689124', 'changePercent24Hr': '7.4689040681028417', 'vwap24Hr': '27.5196791917137706', 'explorer': 'https://avascan.info/'}, {'id': 'shiba-inu', 'rank': '13', 'symbol': 'SHIB', 'name': 'Shiba Inu', 'supply': '589267427416326.9000000000000000', 'maxSupply': None, 'marketCapUsd': '10491659835.2574757206008578', 'volumeUsd24Hr': '158660233.1572889938035504', 'priceUsd': '0.0000178045813278', 'changePercent24Hr': '4.8998071171344712', 'vwap24Hr': '0.0000176549234462', 'explorer': 'https://etherscan.io/token/0x95ad61b0a150d79219dcf64e1e6cc01f0b64c4ce'}, {'id': 'wrapped-bitcoin', 'rank': '14', 'symbol': 'WBTC', 'name': 'Wrapped Bitcoin', 'supply': '150043.5815861300000000', 'maxSupply': None, 'marketCapUsd': '9395486622.8160996706243289', 'volumeUsd24Hr': '11206331.6912505355597454', 'priceUsd': '62618.3840954421515757', 'changePercent24Hr': '2.9912035760338948', 'vwap24Hr': '62007.8401007590481502', 'explorer': 'https://etherscan.io/token/0x2260fac5e5542a773aa44fbcfedf7c193bc2c599'}, {'id': 'chainlink', 'rank': '15', 'symbol': 'LINK', 'name': 'Chainlink', 'supply': '626849970.4527867000000000', 'maxSupply': None, 'marketCapUsd': '6887072168.8716926499855887', 'volumeUsd24Hr': '124965477.3034874781641504', 'priceUsd': '10.9867950761759117', 'changePercent24Hr': '2.7761010312401032', 'vwap24Hr': '10.8494883546242003', 'explorer': 'https://etherscan.io/token/0x514910771af9ca656af840dff83e8264ecf986ca'}, {'id': 'bitcoin-cash', 'rank': '16', 'symbol': 'BCH', 'name': 'Bitcoin Cash', 'supply': '19773075.0000000000000000', 'maxSupply': '21000000.0000000000000000', 'marketCapUsd': '6521138580.5926462507003725', 'volumeUsd24Hr': '51711816.1239857368779064', 'priceUsd': '329.7989099112124063', 'changePercent24Hr': '1.5050651490430952', 'vwap24Hr': '326.5061726367604494', 'explorer': 'https://blockchair.com/bitcoin-cash/blocks'}, {'id': 'sp8de', 'rank': '17', 'symbol': 'SPX', 'name': 'Sp8de', 'supply': '7783756906.1800000000000000', 'maxSupply': None, 'marketCapUsd': '6305920618.7590013337095743', 'volumeUsd24Hr': '13524834.3087796149001224', 'priceUsd': '0.8101384324775541', 'changePercent24Hr': '55.9397833537111346', 'vwap24Hr': '0.6723849450328305', 'explorer': 'https://etherscan.io/token/0x05aaaa829afa407d83315cded1d45eb16025910c'}, {'id': 'polkadot', 'rank': '18', 'symbol': 'DOT', 'name': 'Polkadot', 'supply': '1423661914.2100600000000000', 'maxSupply': None, 'marketCapUsd': '5998127885.3024208518244781', 'volumeUsd24Hr': '77419629.1742344257279343', 'priceUsd': '4.2131687484458495', 'changePercent24Hr': '2.8321850777927235', 'vwap24Hr': '4.1663460890577646', 'explorer': 'https://polkascan.io/polkadot'}, {'id': 'near-protocol', 'rank': '19', 'symbol': 'NEAR', 'name': 'NEAR Protocol', 'supply': '1214156046.0000000000000000', 'maxSupply': None, 'marketCapUsd': '5788693546.4998556256883944', 'volumeUsd24Hr': '71968406.5249243874555700', 'priceUsd': '4.7676685098019564', 'changePercent24Hr': '1.6520244704058384', 'vwap24Hr': '4.7554547041525239', 'explorer': 'https://explorer.nearprotocol.com/'}, {'id': 'unus-sed-leo', 'rank': '20', 'symbol': 'LEO', 'name': 'UNUS SED LEO', 'supply': '925259141.9000000000000000', 'maxSupply': None, 'marketCapUsd': '5634279379.3057218054240344', 'volumeUsd24Hr': '252231.3427858618165912', 'priceUsd': '6.0894068744199044', 'changePercent24Hr': '1.2168952916583677', 'vwap24Hr': '6.0405343494318693', 'explorer': 'https://eospark.com/account/bitfinexleo1'}, {'id': 'multi-collateral-dai', 'rank': '21', 'symbol': 'DAI', 'name': 'Multi Collateral DAI', 'supply': '5365382702.6648720000000000', 'maxSupply': None, 'marketCapUsd': '5368547626.0786125357890522', 'volumeUsd24Hr': '7333260.6723595460548117', 'priceUsd': '1.0005898784092640', 'changePercent24Hr': '0.0502445845219445', 'vwap24Hr': '1.0001318520363809', 'explorer': 'https://etherscan.io/token/0x89d24a6b4ccb1b6faa2625fe562bdd9a23260359'}, {'id': 'litecoin', 'rank': '22', 'symbol': 'LTC', 'name': 'Litecoin', 'supply': '75073805.8164268400000000', 'maxSupply': '84000000.0000000000000000', 'marketCapUsd': '4972702663.3065808788725962', 'volumeUsd24Hr': '94791677.6702327318224738', 'priceUsd': '66.2375193215328874', 'changePercent24Hr': '1.7368734446677945', 'vwap24Hr': '65.4652833095557539', 'explorer': 'http://explorer.litecoin.net/chain/Litecoin'}, {'id': 'uniswap', 'rank': '23', 'symbol': 'UNI', 'name': 'Uniswap', 'supply': '600294743.7100000000000000', 'maxSupply': None, 'marketCapUsd': '4750603035.3461644605629117', 'volumeUsd24Hr': '132837249.6199922951368199', 'priceUsd': '7.9137841620701611', 'changePercent24Hr': '-1.6482485521719800', 'vwap24Hr': '7.9306702757856188', 'explorer': 'https://etherscan.io/token/0x1f9840a85d5af5bf1d1762f925bdaddc4201f984'}, {'id': 'internet-computer', 'rank': '24', 'symbol': 'ICP', 'name': 'Internet Computer', 'supply': '472157069.7513037000000000', 'maxSupply': None, 'marketCapUsd': '3870161177.1319438464093620', 'volumeUsd24Hr': '18256409.4200805088076895', 'priceUsd': '8.1967663412737827', 'changePercent24Hr': '2.0962036089328559', 'vwap24Hr': '8.1458951074320260', 'explorer': 'https://www.dfinityexplorer.org/#/'}, {'id': 'fetch', 'rank': '25', 'symbol': 'FET', 'name': 'Artificial Superintelligence Alliance', 'supply': '2520000000.0000000000000000', 'maxSupply': '2630547141.0000000000000000', 'marketCapUsd': '3632054423.5944486000000000', 'volumeUsd24Hr': '89678557.5549293895461089', 'priceUsd': '1.4412914379343050', 'changePercent24Hr': '6.8959718366184076', 'vwap24Hr': '1.4061981760633748', 'explorer': 'https://etherscan.io/token/0x1d287cc25dad7ccaf76a26bc660c5f7c8e2a05bd'}, {'id': 'monero', 'rank': '26', 'symbol': 'XMR', 'name': 'Monero', 'supply': '18446744.0737095500000000', 'maxSupply': None, 'marketCapUsd': '2826341894.9884651379542523', 'volumeUsd24Hr': '32186958.5121396684837671', 'priceUsd': '153.2163011366645804', 'changePercent24Hr': '1.3817058783403241', 'vwap24Hr': '152.2001421731822613', 'explorer': 'http://moneroblocks.info/'}, {'id': 'ethereum-classic', 'rank': '27', 'symbol': 'ETC', 'name': 'Ethereum Classic', 'supply': '149104346.5073933000000000', 'maxSupply': '210700000.0000000000000000', 'marketCapUsd': '2793852666.4498178699684170', 'volumeUsd24Hr': '34546645.4472131042737127', 'priceUsd': '18.7375668911924403', 'changePercent24Hr': '2.2939289611484672', 'vwap24Hr': '18.5581302042628796', 'explorer': 'http://gastracker.io/'}, {'id': 'stellar', 'rank': '28', 'symbol': 'XLM', 'name': 'Stellar', 'supply': '29695444657.0152600000000000', 'maxSupply': '50001806812.0000000000000000', 'marketCapUsd': '2734951408.0384489945829609', 'volumeUsd24Hr': '22272902.5779631780438877', 'priceUsd': '0.0921000321641031', 'changePercent24Hr': '0.6069012243252472', 'vwap24Hr': '0.0917573137383543', 'explorer': 'https://dashboard.stellar.org/'}, {'id': 'stacks', 'rank': '29', 'symbol': 'STX', 'name': 'Stacks', 'supply': '1492942377.1566600000000000', 'maxSupply': '1818000000.0000000000000000', 'marketCapUsd': '2619515032.4537604341577779', 'volumeUsd24Hr': '15241218.1029341599084205', 'priceUsd': '1.7545988864236553', 'changePercent24Hr': '3.9445542714112930', 'vwap24Hr': '1.7428506083362711', 'explorer': 'https://explorer.xinfin.network/'}, {'id': 'okb', 'rank': '30', 'symbol': 'OKB', 'name': 'OKB', 'supply': '60000000.0000000000000000', 'maxSupply': None, 'marketCapUsd': '2542567597.0264881240000000', 'volumeUsd24Hr': '425465.5334060037238305', 'priceUsd': '42.3761266171081354', 'changePercent24Hr': '1.3645662363400461', 'vwap24Hr': '42.2288814923720394', 'explorer': 'https://etherscan.io/token/0x75231f58b43240c9718dd58b4967c5114342a86c'}, {'id': 'aave', 'rank': '31', 'symbol': 'AAVE', 'name': 'Aave', 'supply': '14952594.4619725600000000', 'maxSupply': None, 'marketCapUsd': '2172778278.2992827117588698', 'volumeUsd24Hr': '69202026.2306556332757111', 'priceUsd': '145.3111220146505468', 'changePercent24Hr': '2.5507803325873988', 'vwap24Hr': '143.6742551017438899', 'explorer': 'https://etherscan.io/token/0x80fB784B7eD66730e8b1DBd9820aFD29931aab03'}, {'id': 'filecoin', 'rank': '32', 'symbol': 'FIL', 'name': 'Filecoin', 'supply': '591833761.0000000000000000', 'maxSupply': None, 'marketCapUsd': '2141272920.2810501007405772', 'volumeUsd24Hr': '71017328.4911874267214152', 'priceUsd': '3.6180310441618252', 'changePercent24Hr': '2.8388938970295841', 'vwap24Hr': '3.5798466912624623', 'explorer': 'https://protocol.ai'}, {'id': 'crypto-com-coin', 'rank': '33', 'symbol': 'CRO', 'name': 'Crypto.com Coin', 'supply': '25263013692.0000000000000000', 'maxSupply': '30263013692.0000000000000000', 'marketCapUsd': '1953072871.0490551478111796', 'volumeUsd24Hr': '2186908.6613591895058370', 'priceUsd': '0.0773095757640163', 'changePercent24Hr': '1.0961334446427746', 'vwap24Hr': '0.0772737651662141', 'explorer': 'https://etherscan.io/token/0xa0b73e1ff0b80914ab6fe0444e65848c4c34450b'}, {'id': 'fantom', 'rank': '34', 'symbol': 'FTM', 'name': 'Fantom', 'supply': '2803634835.5265927000000000', 'maxSupply': None, 'marketCapUsd': '1886044768.4276650415214406', 'volumeUsd24Hr': '133763546.8282985851150034', 'priceUsd': '0.6727141297177593', 'changePercent24Hr': '3.9632731112533013', 'vwap24Hr': '0.6683084112122884', 'explorer': 'https://etherscan.io/token/0x4e15361fd6b4bb609fa63c81a2be19d873717870'}, {'id': 'vechain', 'rank': '35', 'symbol': 'VET', 'name': 'VeChain', 'supply': '80985041177.0000000000000000', 'maxSupply': '86712634466.0000000000000000', 'marketCapUsd': '1845702291.0916815643299671', 'volumeUsd24Hr': '17944779.1264505619457003', 'priceUsd': '0.0227906569443823', 'changePercent24Hr': '2.7373899175531190', 'vwap24Hr': '0.0225580816037871', 'explorer': 'https://explore.veforge.com/'}, {'id': 'thorchain', 'rank': '36', 'symbol': 'RUNE', 'name': 'THORChain', 'supply': '336964445.0000000000000000', 'maxSupply': None, 'marketCapUsd': '1682204589.8104149962956565', 'volumeUsd24Hr': '43657159.0005006245233564', 'priceUsd': '4.9922317169409817', 'changePercent24Hr': '4.4891757610364510', 'vwap24Hr': '4.9581285676336693', 'explorer': 'https://explorer.binance.org/asset/RUNE-B1A'}, {'id': 'the-graph', 'rank': '37', 'symbol': 'GRT', 'name': 'The Graph', 'supply': '9548531509.1654740000000000', 'maxSupply': None, 'marketCapUsd': '1567212138.2812262527611894', 'volumeUsd24Hr': '12958469.0644568798034370', 'priceUsd': '0.1641312213063219', 'changePercent24Hr': '4.0856651039793951', 'vwap24Hr': '0.1615897276412600', 'explorer': 'https://etherscan.io/token/0xc944e90c64b2c07662a292be6244bdf05cda44a7'}, {'id': 'injective-protocol', 'rank': '38', 'symbol': 'INJ', 'name': 'Injective', 'supply': '73005554.3300000000000000', 'maxSupply': '100000000.0000000000000000', 'marketCapUsd': '1502814861.3080562132383726', 'volumeUsd24Hr': '21989388.0088061507360175', 'priceUsd': '20.5849387091155618', 'changePercent24Hr': '5.7694350027710527', 'vwap24Hr': '20.2646010460669170', 'explorer': 'https://etherscan.io/token/0xe28b3b32b6c345a34ff64674606124dd5aceca30'}, {'id': 'theta', 'rank': '39', 'symbol': 'THETA', 'name': 'THETA', 'supply': '1000000000.0000000000000000', 'maxSupply': '1000000000.0000000000000000', 'marketCapUsd': '1315365277.7781365000000000', 'volumeUsd24Hr': '8903980.0657752669349167', 'priceUsd': '1.3153652777781365', 'changePercent24Hr': '7.5038610228100067', 'vwap24Hr': '1.2737703936714977', 'explorer': 'https://explorer.thetatoken.org/'}, {'id': 'arweave', 'rank': '40', 'symbol': 'AR', 'name': 'Arweave', 'supply': '65652466.0000000000000000', 'maxSupply': '66000000.0000000000000000', 'marketCapUsd': '1253631147.9790763262449808', 'volumeUsd24Hr': '17104236.8439349699141026', 'priceUsd': '19.0949590222410888', 'changePercent24Hr': '3.1151776807871230', 'vwap24Hr': '18.9228587530935774', 'explorer': 'https://viewblock.io/arweave'}, {'id': 'maker', 'rank': '41', 'symbol': 'MKR', 'name': 'Maker', 'supply': '874148.7097341200000000', 'maxSupply': '1005577.0000000000000000', 'marketCapUsd': '1193459700.4161051982284792', 'volumeUsd24Hr': '42266978.2392877593538414', 'priceUsd': '1365.2822307306344223', 'changePercent24Hr': '-0.5513947360842537', 'vwap24Hr': '1368.7936904840439809', 'explorer': 'https://etherscan.io/token/Maker'}, {'id': 'helium', 'rank': '42', 'symbol': 'HNT', 'name': 'Helium', 'supply': '170472132.1052022300000000', 'maxSupply': None, 'marketCapUsd': '1133751534.3380074813325224', 'volumeUsd24Hr': '11606154.1730702206881795', 'priceUsd': '6.6506561532200678', 'changePercent24Hr': '1.7573496645887629', 'vwap24Hr': '6.6656746176875147', 'explorer': 'https://explorer.helium.com/'}, {'id': 'cosmos', 'rank': '43', 'symbol': 'ATOM', 'name': 'Cosmos', 'supply': '248453201.0000000000000000', 'maxSupply': None, 'marketCapUsd': '1081608575.8003406792649118', 'volumeUsd24Hr': '37476642.6434977537342894', 'priceUsd': '4.3533694532691518', 'changePercent24Hr': '3.3853912048957565', 'vwap24Hr': '4.2756174945965737', 'explorer': 'https://www.mintscan.io/'}, {'id': 'polygon', 'rank': '44', 'symbol': 'MATIC', 'name': 'Polygon', 'supply': '2681208139.4766493000000000', 'maxSupply': None, 'marketCapUsd': '1018665381.4084796514679779', 'volumeUsd24Hr': '25919784.5092481591142670', 'priceUsd': '0.3799277521242029', 'changePercent24Hr': '0.1528700378169272', 'vwap24Hr': '0.3728528977890608', 'explorer': 'https://etherscan.io/token/0x7D1AfA7B718fb893dB30A3aBc0Cfc608AaCfeBB0'}, {'id': 'algorand', 'rank': '45', 'symbol': 'ALGO', 'name': 'Algorand', 'supply': '8314438033.3851550000000000', 'maxSupply': '10000000000.0000000000000000', 'marketCapUsd': '1016395745.8682695123026389', 'volumeUsd24Hr': '18828343.3407608134139363', 'priceUsd': '0.1222446714723367', 'changePercent24Hr': '1.9303850498809665', 'vwap24Hr': '0.1211894847450100', 'explorer': 'https://algoexplorer.io/'}, {'id': 'kucoin-token', 'rank': '46', 'symbol': 'KCS', 'name': 'KuCoin Token', 'supply': '120309933.1460797500000000', 'maxSupply': '170118638.0000000000000000', 'marketCapUsd': '984353541.8965846566453918', 'volumeUsd24Hr': '400433.7811407572109445', 'priceUsd': '8.1818143868585419', 'changePercent24Hr': '1.6237707430586169', 'vwap24Hr': '8.1097823411220319', 'explorer': 'https://etherscan.io/token/0xf34960d9d60be18cc1d5afc1a6f012a723a28811'}, {'id': 'lido-dao', 'rank': '47', 'symbol': 'LDO', 'name': 'Lido DAO', 'supply': '895280831.1785043000000000', 'maxSupply': None, 'marketCapUsd': '965205290.3937379869151990', 'volumeUsd24Hr': '1798179.2222344342976981', 'priceUsd': '1.0781033802803401', 'changePercent24Hr': '3.7470564933269452', 'vwap24Hr': '1.0706346345631806', 'explorer': 'https://etherscan.io/token/0x5a98fcbea516cf06857215779fd812ca3bef1b32'}, {'id': 'bitcoin-sv', 'rank': '48', 'symbol': 'BSV', 'name': 'Bitcoin SV', 'supply': '19768912.5000000000000000', 'maxSupply': None, 'marketCapUsd': '902305625.0252233495726913', 'volumeUsd24Hr': '5749340.2619187825397997', 'priceUsd': '45.6426535867981281', 'changePercent24Hr': '2.3384608094272047', 'vwap24Hr': '45.3075958243336304', 'explorer': 'https://bsvexplorer.io/'}, {'id': 'flow', 'rank': '49', 'symbol': 'FLOW', 'name': 'Flow', 'supply': '1537528642.5723460000000000', 'maxSupply': None, 'marketCapUsd': '840805082.9333066274506523', 'volumeUsd24Hr': '10691756.5279357006095065', 'priceUsd': '0.5468549070582559', 'changePercent24Hr': '2.4546742326397735', 'vwap24Hr': '0.5394031527327142', 'explorer': 'https://flowscan.org/'}, {'id': 'gatetoken', 'rank': '50', 'symbol': 'GT', 'name': 'GateToken', 'supply': '91004349.1796342000000000', 'maxSupply': None, 'marketCapUsd': '828666902.8455550845103616', 'volumeUsd24Hr': '2853378.5366588156607926', 'priceUsd': '9.1057945066981686', 'changePercent24Hr': '0.9620992847694405', 'vwap24Hr': '9.0910842738300697', 'explorer': None}, {'id': 'quant', 'rank': '51', 'symbol': 'QNT', 'name': 'Quant', 'supply': '12072738.0000000000000000', 'maxSupply': '14881364.0000000000000000', 'marketCapUsd': '813529924.4760726174363768', 'volumeUsd24Hr': '2793974.0707572744797062', 'priceUsd': '67.3857019406925436', 'changePercent24Hr': '0.8895660060328368', 'vwap24Hr': '67.0911648350151433', 'explorer': 'https://etherscan.io/token/0x4a220e6096b25eadb88358cb44068a3248254675'}, {'id': 'conflux-network', 'rank': '52', 'symbol': 'CFX', 'name': 'Conflux', 'supply': '4527603440.4700000000000000', 'maxSupply': None, 'marketCapUsd': '789097448.0996578908105095', 'volumeUsd24Hr': '17882199.4148737492210448', 'priceUsd': '0.1742859016861564', 'changePercent24Hr': '3.2600732285114831', 'vwap24Hr': '0.1746027499911825', 'explorer': 'http://www.confluxscan.io/'}, {'id': 'hedera-hashgraph', 'rank': '53', 'symbol': 'HBAR', 'name': 'Hedera Hashgraph', 'supply': '14832756028.0000000000000000', 'maxSupply': '50000000000.0000000000000000', 'marketCapUsd': '766618053.1613659229308148', 'volumeUsd24Hr': '8170690.2641748943966893', 'priceUsd': '0.0516841274618291', 'changePercent24Hr': '1.1653535904168715', 'vwap24Hr': '0.0513642179325913', 'explorer': 'https://hash-hash.info/'}, {'id': 'neo', 'rank': '54', 'symbol': 'NEO', 'name': 'Neo', 'supply': '70538831.0000000000000000', 'maxSupply': '100000000.0000000000000000', 'marketCapUsd': '763411062.2152227092181698', 'volumeUsd24Hr': '9745717.1446489420922439', 'priceUsd': '10.8225646979494558', 'changePercent24Hr': '4.4741209405131122', 'vwap24Hr': '10.6352088798128796', 'explorer': 'https://neotracker.io'}, {'id': 'mantra-dao', 'rank': '55', 'symbol': 'OM', 'name': 'MANTRA DAO', 'supply': '500205033.1781248500000000', 'maxSupply': '888888888.0000000000000000', 'marketCapUsd': '757447492.1693437905055137', 'volumeUsd24Hr': '14075576.0820994743872189', 'priceUsd': '1.5142740315042251', 'changePercent24Hr': '5.7027447478161865', 'vwap24Hr': '1.4595166554649859', 'explorer': 'https://etherscan.io/token/0x3593d125a4f7849a1b059e64f4517a86dd60c95d'}, {'id': 'gala', 'rank': '56', 'symbol': 'GALA', 'name': 'Gala', 'supply': '34952104882.6184300000000000', 'maxSupply': None, 'marketCapUsd': '739715298.7078328056811476', 'volumeUsd24Hr': '23257456.5373251567312341', 'priceUsd': '0.0211636838809010', 'changePercent24Hr': '5.1211468370893925', 'vwap24Hr': '0.0208290928110695', 'explorer': 'https://ethplorer.io/es/address/0x15d4c048f83bd7e37d49ea4c83a07267ec4203da#chart=candlestick'}, {'id': 'eos', 'rank': '57', 'symbol': 'EOS', 'name': 'EOS', 'supply': '1520392905.1824000000000000', 'maxSupply': '2100000000.0000000000000000', 'marketCapUsd': '725898366.9719502411632710', 'volumeUsd24Hr': '14052292.7706946631388087', 'priceUsd': '0.4774413011910661', 'changePercent24Hr': '2.1089733601573933', 'vwap24Hr': '0.4732275910858463', 'explorer': 'https://bloks.io/'}, {'id': 'axie-infinity', 'rank': '58', 'symbol': 'AXS', 'name': 'Axie Infinity', 'supply': '152195083.0942079400000000', 'maxSupply': None, 'marketCapUsd': '720849259.2675759322488746', 'volumeUsd24Hr': '13437683.2620047255315976', 'priceUsd': '4.7363505089147598', 'changePercent24Hr': '5.1132805746818287', 'vwap24Hr': '4.6235885230003864', 'explorer': 'https://etherscan.io/token/0xf5d669627376ebd411e34b98f19c868c8aba5ada'}, {'id': 'ftx-token', 'rank': '59', 'symbol': 'FTT', 'name': 'FTX Token', 'supply': '328895103.8132070000000000', 'maxSupply': None, 'marketCapUsd': '706843203.2337945192260953', 'volumeUsd24Hr': '24457595.1379511282882510', 'priceUsd': '2.1491448034302138', 'changePercent24Hr': '1.9430248031682043', 'vwap24Hr': '2.1352388512398087', 'explorer': 'https://etherscan.io/token/0x50d1c9771902476076ecfc8b2a83ad6b9355a4c9'}, {'id': 'tezos', 'rank': '60', 'symbol': 'XTZ', 'name': 'Tezos', 'supply': '1005930362.9231240000000000', 'maxSupply': None, 'marketCapUsd': '701520802.6685738347273383', 'volumeUsd24Hr': '13754659.9884250855128346', 'priceUsd': '0.6973850561882145', 'changePercent24Hr': '5.6606877852254037', 'vwap24Hr': '0.6794767900429783', 'explorer': 'https://tzkt.io/'}, {'id': 'ecash', 'rank': '61', 'symbol': 'XEC', 'name': 'eCash', 'supply': '19769295298090.0000000000000000', 'maxSupply': '21000000000000.0000000000000000', 'marketCapUsd': '694164935.1849857294155480', 'volumeUsd24Hr': '5853798.8447419472403772', 'priceUsd': '0.0000351132867772', 'changePercent24Hr': '5.5516290785136106', 'vwap24Hr': '0.0000341862841332', 'explorer': 'https://explorer.bitcoinabc.org/'}, {'id': 'nervos-network', 'rank': '62', 'symbol': 'CKB', 'name': 'Nervos Network', 'supply': '45074801311.1903400000000000', 'maxSupply': None, 'marketCapUsd': '692472460.8665793740668461', 'volumeUsd24Hr': '29699025.7346611510729583', 'priceUsd': '0.0153627401724046', 'changePercent24Hr': '3.6091500750970567', 'vwap24Hr': '0.0153542218355976', 'explorer': 'https://explorer.nervos.org/'}, {'id': 'pendle', 'rank': '63', 'symbol': 'PENDLE', 'name': 'Pendle', 'supply': '160783598.9978618300000000', 'maxSupply': None, 'marketCapUsd': '646745532.0863076450858554', 'volumeUsd24Hr': '4318282.7159875312975588', 'priceUsd': '4.0224596048189489', 'changePercent24Hr': '3.3617462008508449', 'vwap24Hr': '3.9880900806497444', 'explorer': 'https://etherscan.io/token/0x808507121b80c02388fad14726482e061b8da827'}, {'id': 'elrond-egld', 'rank': '64', 'symbol': 'EGLD', 'name': 'MultiversX', 'supply': '24184559.1898415400000000', 'maxSupply': '31415926.0000000000000000', 'marketCapUsd': '646458510.4025696222258197', 'volumeUsd24Hr': '14657049.4731699097628849', 'priceUsd': '26.7302168018885149', 'changePercent24Hr': '4.2531456284728166', 'vwap24Hr': '26.0546564448863018', 'explorer': 'https://explorer.elrond.com/'}, {'id': 'the-sandbox', 'rank': '65', 'symbol': 'SAND', 'name': 'The Sandbox', 'supply': '2389232126.2233224000000000', 'maxSupply': None, 'marketCapUsd': '629812963.2857045699175200', 'volumeUsd24Hr': '9946405.4549671476750496', 'priceUsd': '0.2636047608656823', 'changePercent24Hr': '4.3701625799529049', 'vwap24Hr': '0.2577007914613181', 'explorer': 'https://etherscan.io/token/0x3845badAde8e6dFF049820680d1F14bD3903a5d0'}, {'id': 'chiliz', 'rank': '66', 'symbol': 'CHZ', 'name': 'Chiliz', 'supply': '9121824867.0000000000000000', 'maxSupply': None, 'marketCapUsd': '629023851.7732134158325960', 'volumeUsd24Hr': '29027667.5541016728683409', 'priceUsd': '0.0689581153929880', 'changePercent24Hr': '-0.2490976557813076', 'vwap24Hr': '0.0693750174478339', 'explorer': 'https://etherscan.io/token/0x3506424f91fd33084466f402d5d97f05f8e3b4af'}, {'id': 'akash-network', 'rank': '67', 'symbol': 'AKT', 'name': 'Akash Network', 'supply': '248285794.6611410000000000', 'maxSupply': '388539008.0000000000000000', 'marketCapUsd': '619458052.9011751310095533', 'volumeUsd24Hr': '1228525.7869620114804264', 'priceUsd': '2.4949395665048331', 'changePercent24Hr': '6.1216063194765935', 'vwap24Hr': '2.4515558357461738', 'explorer': 'https://akash.bigdipper.live/'}, {'id': 'mina', 'rank': '68', 'symbol': 'MINA', 'name': 'Mina', 'supply': '1168260188.8400393000000000', 'maxSupply': None, 'marketCapUsd': '614292280.4787839570813476', 'volumeUsd24Hr': '5146292.4178417770350547', 'priceUsd': '0.5258180380936478', 'changePercent24Hr': '4.4190141452098030', 'vwap24Hr': '0.5145196436352564', 'explorer': 'https://minaexplorer.com/'}, {'id': 'superfarm', 'rank': '69', 'symbol': 'SUPER', 'name': 'SuperVerse', 'supply': '487976093.4169172600000000', 'maxSupply': '1000000000.0000000000000000', 'marketCapUsd': '593444453.0954544671302899', 'volumeUsd24Hr': '9090854.2796712002168112', 'priceUsd': '1.2161342760462388', 'changePercent24Hr': '3.2565859905528237', 'vwap24Hr': '1.1652985358593324', 'explorer': 'https://etherscan.io/token/0xe53ec727dbdeb9e2d5456c3be40cff031ab40a55'}, {'id': 'zcash', 'rank': '70', 'symbol': 'ZEC', 'name': 'Zcash', 'supply': '16328268.7500000000000000', 'maxSupply': '21000000.0000000000000000', 'marketCapUsd': '586578347.6154538895188294', 'volumeUsd24Hr': '74921249.2596701454399481', 'priceUsd': '35.9240992781585549', 'changePercent24Hr': '-1.8553946685958105', 'vwap24Hr': '35.9522906105070432', 'explorer': 'https://explorer.zcha.in/'}, {'id': 'decentraland', 'rank': '71', 'symbol': 'MANA', 'name': 'Decentraland', 'supply': '1908319865.3915880000000000', 'maxSupply': None, 'marketCapUsd': '570906564.6474097790954037', 'volumeUsd24Hr': '5331329.1230117578311915', 'priceUsd': '0.2991671233953536', 'changePercent24Hr': '4.3475825616949575', 'vwap24Hr': '0.2924315927580949', 'explorer': 'https://etherscan.io/token/decentraland'}, {'id': 'nexo', 'rank': '72', 'symbol': 'NEXO', 'name': 'Nexo', 'supply': '560000011.0000000000000000', 'maxSupply': None, 'marketCapUsd': '536772230.4917585786932214', 'volumeUsd24Hr': '419945.2235094549288002', 'priceUsd': '0.9585218213357474', 'changePercent24Hr': '5.4672442286290169', 'vwap24Hr': '0.9889950995366047', 'explorer': 'https://etherscan.io/token/0xb62132e35a6c13ee1ee0f84dc5d40bad8d815206'}, {'id': 'aioz-network', 'rank': '73', 'symbol': 'AIOZ', 'name': 'AIOZ Network', 'supply': '1128361233.3124666000000000', 'maxSupply': None, 'marketCapUsd': '524110751.1666511375442484', 'volumeUsd24Hr': '482025.9978465989680500', 'priceUsd': '0.4644884419044145', 'changePercent24Hr': '4.4654408746511948', 'vwap24Hr': '0.4599242575887627', 'explorer': 'https://etherscan.io/token/0x626e8036deb333b408be468f951bdb42433cbf18'}, {'id': 'pancakeswap', 'rank': '74', 'symbol': 'CAKE', 'name': 'PancakeSwap', 'supply': '279595674.0794002000000000', 'maxSupply': '450000000.0000000000000000', 'marketCapUsd': '520678265.0998306897362168', 'volumeUsd24Hr': '5814901.7619825283808068', 'priceUsd': '1.8622543671829748', 'changePercent24Hr': '2.6795091428209614', 'vwap24Hr': '1.8332366151579471', 'explorer': 'https://bscscan.com/token/0x0e09fabb73bd3ade0a17ecc321fd13a19e81ce82'}, {'id': 'oasis-network', 'rank': '75', 'symbol': 'ROSE', 'name': 'Oasis', 'supply': '7064132681.0000000000000000', 'maxSupply': None, 'marketCapUsd': '506082993.4149524876571100', 'volumeUsd24Hr': '8395775.8675849142730676', 'priceUsd': '0.0716412072463100', 'changePercent24Hr': '6.9402313571195237', 'vwap24Hr': '0.0692021531561045', 'explorer': 'https://www.oasisscan.com/'}, {'id': 'trueusd', 'rank': '76', 'symbol': 'TUSD', 'name': 'TrueUSD', 'supply': '495601552.6100000000000000', 'maxSupply': None, 'marketCapUsd': '494013125.0026652106388344', 'volumeUsd24Hr': '4992259.2791240316751335', 'priceUsd': '0.9967949503003580', 'changePercent24Hr': '0.0473557523036693', 'vwap24Hr': '0.9965728315418612', 'explorer': 'https://etherscan.io/token/0x8dd5fbce2f6a956c3022ba3663759011dd51e73e'}, {'id': 'klaytn', 'rank': '77', 'symbol': 'KLAY', 'name': 'Klaytn', 'supply': '3803678791.7692375000000000', 'maxSupply': None, 'marketCapUsd': '490074576.2065170547141011', 'volumeUsd24Hr': '2369365.4050866846925433', 'priceUsd': '0.1288422611464951', 'changePercent24Hr': '0.8710944438916860', 'vwap24Hr': '0.1283413787911262', 'explorer': 'https://scope.klaytn.com/blocks'}, {'id': 'dexe', 'rank': '78', 'symbol': 'DEXE', 'name': 'DeXe', 'supply': '57103247.5232684700000000', 'maxSupply': '98942301.0000000000000000', 'marketCapUsd': '484491897.9391088786986163', 'volumeUsd24Hr': '403319.6813377399669231', 'priceUsd': '8.4844893933867385', 'changePercent24Hr': '4.6924721033694772', 'vwap24Hr': '8.3366476483339595', 'explorer': 'https://etherscan.io/token/0xde4EE8057785A7e8e800Db58F9784845A5C2Cbd6'}, {'id': 'raydium', 'rank': '79', 'symbol': 'RAY', 'name': 'Raydium', 'supply': '263817427.2067150000000000', 'maxSupply': None, 'marketCapUsd': '464181153.0895046370686404', 'volumeUsd24Hr': '6744002.7922306247759050', 'priceUsd': '1.7594787349881704', 'changePercent24Hr': '6.4929698100187166', 'vwap24Hr': '1.7371036190850540', 'explorer': 'https://explorer.solana.com/address/4k3Dyjzvzp8eMZWUXbBCjEvwSkkk59S5iCNLY3QrkX6R'}, {'id': 'trust-wallet-token', 'rank': '80', 'symbol': 'TWT', 'name': 'Trust Wallet Token', 'supply': '416649900.0000000000000000', 'maxSupply': None, 'marketCapUsd': '463131711.4596760990058100', 'volumeUsd24Hr': '4178618.1208806378014108', 'priceUsd': '1.1115608367112919', 'changePercent24Hr': '6.6992607257911101', 'vwap24Hr': '1.0669060631286631', 'explorer': 'https://explorer.binance.org/asset/TWT-8C2'}, {'id': 'celo', 'rank': '81', 'symbol': 'CELO', 'name': 'Celo', 'supply': '550974740.0000000000000000', 'maxSupply': '1000000000.0000000000000000', 'marketCapUsd': '445020069.1766238693249380', 'volumeUsd24Hr': '23851573.3901009675217264', 'priceUsd': '0.8076959556741637', 'changePercent24Hr': '4.2335347491627789', 'vwap24Hr': '0.8018185908823240', 'explorer': 'https://explorer.celo.org/blocks'}, {'id': 'gnosis-gno', 'rank': '82', 'symbol': 'GNO', 'name': 'Gnosis', 'supply': '2589588.0000000000000000', 'maxSupply': '3000000.0000000000000000', 'marketCapUsd': '443665423.8149978485557324', 'volumeUsd24Hr': '3801411.2693834902202850', 'priceUsd': '171.3266449392713623', 'changePercent24Hr': '2.2280419246837834', 'vwap24Hr': '170.3985398316474108', 'explorer': 'https://etherscan.io/token/Gnosis'}, {'id': 'livepeer', 'rank': '83', 'symbol': 'LPT', 'name': 'Livepeer', 'supply': '35093114.0006617200000000', 'maxSupply': None, 'marketCapUsd': '434525036.6873332798264195', 'volumeUsd24Hr': '7771674.2337222525738137', 'priceUsd': '12.3820598160408285', 'changePercent24Hr': '6.6730409497255506', 'vwap24Hr': '12.2112885987865918', 'explorer': 'https://explorer.livepeer.org/'}, {'id': 'iota', 'rank': '84', 'symbol': 'IOTA', 'name': 'IOTA', 'supply': '3459157943.0000000000000000', 'maxSupply': '4600000000.0000000000000000', 'marketCapUsd': '429881282.4632269812768655', 'volumeUsd24Hr': '2939392.9110855567584312', 'priceUsd': '0.1242733895204585', 'changePercent24Hr': '3.7230222199803419', 'vwap24Hr': '0.1217817534401766', 'explorer': 'https://thetangle.org/'}, {'id': 'fei-protocol', 'rank': '85', 'symbol': 'FEI', 'name': 'Fei Protocol', 'supply': '424996177.7889055600000000', 'maxSupply': None, 'marketCapUsd': '414435702.9460483534443189', 'volumeUsd24Hr': '117707.0391417359816395', 'priceUsd': '0.9751516004266218', 'changePercent24Hr': '0.0413748207147232', 'vwap24Hr': '0.9722500696798179', 'explorer': 'https://etherscan.io/token/0x956F47F50A910163D8BF957Cf5846D573E7f87CA'}, {'id': 'theta-fuel', 'rank': '86', 'symbol': 'TFUEL', 'name': 'Theta Fuel', 'supply': '6709741431.0000000000000000', 'maxSupply': None, 'marketCapUsd': '414218328.4524567705323598', 'volumeUsd24Hr': '1685295.2269456362476233', 'priceUsd': '0.0617338734602658', 'changePercent24Hr': '4.7424663984844814', 'vwap24Hr': '0.0626944489706471', 'explorer': 'https://explorer.thetatoken.org/'}, {'id': 'compound', 'rank': '87', 'symbol': 'COMP', 'name': 'Compound', 'supply': '8785455.8769246000000000', 'maxSupply': None, 'marketCapUsd': '393203157.8894056273212476', 'volumeUsd24Hr': '4835088.5326451574922420', 'priceUsd': '44.7561473642103912', 'changePercent24Hr': '2.8923070717765816', 'vwap24Hr': '43.9904315090425952', 'explorer': 'https://etherscan.io/token/0xc00e94cb662c3520282e6f5717214004a7f26888'}, {'id': 'kava', 'rank': '88', 'symbol': 'KAVA', 'name': 'Kava', 'supply': '1082854688.0000000000000000', 'maxSupply': None, 'marketCapUsd': '385311394.5773843926946336', 'volumeUsd24Hr': '22228522.9152246328759711', 'priceUsd': '0.3558292713208297', 'changePercent24Hr': '0.9409934850006546', 'vwap24Hr': '0.3470505557603934', 'explorer': 'https://www.mintscan.io/kava'}, {'id': 'iotex', 'rank': '89', 'symbol': 'IOTX', 'name': 'IoTeX', 'supply': '9441372454.0000000000000000', 'maxSupply': '10000000000.0000000000000000', 'marketCapUsd': '371275906.5697210156489216', 'volumeUsd24Hr': '3391393.7649339358402135', 'priceUsd': '0.0393243575951104', 'changePercent24Hr': '6.0882016571226369', 'vwap24Hr': '0.0386724487021980', 'explorer': 'https://etherscan.io/token/0x6fb3e0a217407efff7ca062d46c26e5d60a14d69'}, {'id': 'nxm', 'rank': '90', 'symbol': 'NXM', 'name': 'NXM', 'supply': '6594067.8412913900000000', 'maxSupply': None, 'marketCapUsd': '357552918.1240028850935974', 'volumeUsd24Hr': '456003.2693732337291765', 'priceUsd': '54.2234212218810447', 'changePercent24Hr': '2.9598933064470216', 'vwap24Hr': '53.8815693322977596', 'explorer': 'https://etherscan.io/token/0xd7c49cee7e9188cca6ad8ff264c1da2e69d4cf3b'}, {'id': 'reserve-rights', 'rank': '91', 'symbol': 'RSR', 'name': 'Reserve Rights', 'supply': '52002220909.0000000000000000', 'maxSupply': '100000000000.0000000000000000', 'marketCapUsd': '355152035.7693393880357398', 'volumeUsd24Hr': '2821696.7975521244228472', 'priceUsd': '0.0068295551528622', 'changePercent24Hr': '4.7778897580930249', 'vwap24Hr': '0.0067331349793463', 'explorer': 'https://etherscan.io/token/0x8762db106b2c2a0bccb3a80d1ed41273552616e8'}, {'id': 'xinfin-network', 'rank': '92', 'symbol': 'XDC', 'name': 'XinFin Network', 'supply': '12293293518.5500000000000000', 'maxSupply': None, 'marketCapUsd': '347703088.0204682467184156', 'volumeUsd24Hr': '480473.9850309866606139', 'priceUsd': '0.0282839653584941', 'changePercent24Hr': '4.2428663188255978', 'vwap24Hr': '0.0286044008555980', 'explorer': 'https://etherscan.io/token/0x41ab1b6fcbb2fa9dced81acbdec13ea6315f2bf2'}, {'id': 'synthetix-network-token', 'rank': '93', 'symbol': 'SNX', 'name': 'Synthetix', 'supply': '233716733.4900000000000000', 'maxSupply': '212424133.0000000000000000', 'marketCapUsd': '345766194.6900245516717853', 'volumeUsd24Hr': '4310984.9060676012934906', 'priceUsd': '1.4794242137772253', 'changePercent24Hr': '2.7352113505910690', 'vwap24Hr': '1.4527279513243563', 'explorer': 'https://etherscan.io/token/0xc011a72400e58ecd99ee497cf89e3775d4bd732f'}, {'id': 'golem-network-tokens', 'rank': '94', 'symbol': 'GLM', 'name': 'Golem', 'supply': '1000000000.0000000000000000', 'maxSupply': None, 'marketCapUsd': '343338667.2770981000000000', 'volumeUsd24Hr': '103508.4872771449551355', 'priceUsd': '0.3433386672770981', 'changePercent24Hr': '3.3159989904780876', 'vwap24Hr': '0.3389783605244603', 'explorer': 'https://etherscan.io/token/Golem'}, {'id': '1inch', 'rank': '95', 'symbol': '1INCH', 'name': '1inch Network', 'supply': '1275703186.0059986000000000', 'maxSupply': None, 'marketCapUsd': '332379891.0929892937685938', 'volumeUsd24Hr': '6859162.2797419189262502', 'priceUsd': '0.2605464145101119', 'changePercent24Hr': '3.0426948452602738', 'vwap24Hr': '0.2575204941158629', 'explorer': 'https://etherscan.io/token/0x111111111117dc0aa78b770fa6a738034120c302'}, {'id': 'wootrade', 'rank': '96', 'symbol': 'WOO', 'name': 'WOO', 'supply': '1829579029.3535795000000000', 'maxSupply': None, 'marketCapUsd': '323083747.1578574982550127', 'volumeUsd24Hr': '11421862.7818232483938654', 'priceUsd': '0.1765891180289754', 'changePercent24Hr': '6.5299647723265332', 'vwap24Hr': '0.1723370911058990', 'explorer': 'https://etherscan.io/token/0x4691937a7508860f876c9c0a2a617e7d9e945d4b'}, {'id': 'curve-dao-token', 'rank': '97', 'symbol': 'CRV', 'name': 'Curve DAO Token', 'supply': '1206043200.0000000000000000', 'maxSupply': None, 'marketCapUsd': '313286911.2208260128822400', 'volumeUsd24Hr': '17673905.2544219890866875', 'priceUsd': '0.2597642532380482', 'changePercent24Hr': '0.1718402447721039', 'vwap24Hr': '0.2608375579663930', 'explorer': 'https://etherscan.io/token/0xD533a949740bb3306d119CC777fa900bA034cd52'}, {'id': 'amp', 'rank': '98', 'symbol': 'AMP', 'name': 'Amp', 'supply': '80722574661.2915300000000000', 'maxSupply': None, 'marketCapUsd': '307205801.1315890327430709', 'volumeUsd24Hr': '396780.6494569808869411', 'priceUsd': '0.0038056987456187', 'changePercent24Hr': '1.2753781984962122', 'vwap24Hr': '0.0038118088602165', 'explorer': None}, {'id': 'just', 'rank': '99', 'symbol': 'JST', 'name': 'JUST', 'supply': '9900000000.0000000000000000', 'maxSupply': None, 'marketCapUsd': '297551719.9305377100000000', 'volumeUsd24Hr': '3116558.6361531650908375', 'priceUsd': '0.0300557292859129', 'changePercent24Hr': '1.8510099652531953', 'vwap24Hr': '0.0298994411034454', 'explorer': 'https://tronscan.org/#/token20/TCFLL5dx5ZJdKnWuesXxi1VPwjLVmWZZy9'}, {'id': 'gas', 'rank': '100', 'symbol': 'GAS', 'name': 'Gas', 'supply': '64992331.0000000000000000', 'maxSupply': None, 'marketCapUsd': '292903374.1667647883284610', 'volumeUsd24Hr': '417675.4025080927880339', 'priceUsd': '4.5067374821002310', 'changePercent24Hr': '0.9280647795551695', 'vwap24Hr': '4.4868735063739486', 'explorer': 'https://neotracker.io/asset/602c79718b16e442de58778e148d0b1084e3b2dffd5de6b7b16cee7969282de7'}], 'timestamp': 1728724947289}\n"
     ]
    }
   ],
   "execution_count": 85
  },
  {
   "metadata": {},
   "cell_type": "markdown",
   "source": [
    "## Les attributs d'un objet process\n",
    "\n",
    "Il a entre autre un attribut `pid` qui est l'identifiant du process."
   ]
  },
  {
   "metadata": {
    "ExecuteTime": {
     "end_time": "2024-10-12T09:22:27.426135Z",
     "start_time": "2024-10-12T09:22:27.399527Z"
    }
   },
   "cell_type": "code",
   "source": [
    "from multiprocessing import Process\n",
    "\n",
    "p = Process(target=lambda: print(\"Hello\"))\n",
    "p.start()\n",
    "for att in dir(p):\n",
    "    if not att.startswith(\"_\"):\n",
    "        print(att, \"has value: \", getattr(p, att), \" and callable: \", callable(getattr(p, att)))\n",
    "\n",
    "p.join()"
   ],
   "outputs": [
    {
     "name": "stdout",
     "output_type": "stream",
     "text": [
      "Hello\n",
      "authkey has value:  b'\\x9e\\\\\\xd1we\\xda\\xbc\\x13\\x94\\x81\\x03?\\x95],\\x89\\x8a\\xb9/\\xdc\\x1e\\x1f\\xaaO\\xbdI\\x19e;\\xaau\\x15'  and callable:  False\n",
      "close has value:  <bound method BaseProcess.close of <Process name='Process-198' pid=821903 parent=86504 started>>  and callable:  True\n",
      "daemon has value:  False  and callable:  False\n",
      "exitcode has value:  None  and callable:  False\n",
      "ident has value:  821903  and callable:  False\n",
      "is_alive has value:  <bound method BaseProcess.is_alive of <Process name='Process-198' pid=821903 parent=86504 started>>  and callable:  True\n",
      "join has value:  <bound method BaseProcess.join of <Process name='Process-198' pid=821903 parent=86504 started>>  and callable:  True\n",
      "kill has value:  <bound method BaseProcess.kill of <Process name='Process-198' pid=821903 parent=86504 started>>  and callable:  True\n",
      "name has value:  Process-198  and callable:  False\n",
      "pid has value:  821903  and callable:  False\n",
      "run has value:  <bound method BaseProcess.run of <Process name='Process-198' pid=821903 parent=86504 started>>  and callable:  True\n",
      "sentinel has value:  153  and callable:  False\n",
      "start has value:  <bound method BaseProcess.start of <Process name='Process-198' pid=821903 parent=86504 started>>  and callable:  True\n",
      "terminate has value:  <bound method BaseProcess.terminate of <Process name='Process-198' pid=821903 parent=86504 started>>  and callable:  True\n"
     ]
    }
   ],
   "execution_count": 86
  },
  {
   "metadata": {},
   "cell_type": "markdown",
   "source": [
    "### Exercice 2\n",
    "\n",
    "Développer le script `cube_queue.py` qui calcule les cubes des 100 premiers entiers les stock dans une queue et calcul la somme à partir de la queue.\n",
    "\n",
    "- Attention aux commentaires\n",
    "- Attention aux noms de variables.  \n",
    "*Faites valider votre script ainsi que son exécution*. "
   ]
  }
 ],
 "metadata": {
  "kernelspec": {
   "display_name": "Python 3",
   "language": "python",
   "name": "python3"
  },
  "language_info": {
   "codemirror_mode": {
    "name": "ipython",
    "version": 3
   },
   "file_extension": ".py",
   "mimetype": "text/x-python",
   "name": "python",
   "nbconvert_exporter": "python",
   "pygments_lexer": "ipython3",
   "version": "3.8.5"
  }
 },
 "nbformat": 4,
 "nbformat_minor": 4
}
