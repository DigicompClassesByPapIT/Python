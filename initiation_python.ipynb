{
 "cells": [
  {
   "metadata": {},
   "cell_type": "markdown",
   "source": "# Inititation à la programmation Python 3"
  },
  {
   "metadata": {},
   "cell_type": "markdown",
   "source": "- Langage Haut niveau - Langage proche du langage humain  "
  },
  {
   "metadata": {},
   "cell_type": "markdown",
   "source": "## Syntaxe d'écriture"
  },
  {
   "metadata": {},
   "cell_type": "markdown",
   "source": "- L'**indentation** est essentielle ! "
  },
  {
   "metadata": {},
   "cell_type": "markdown",
   "source": [
    "*Exemple de l'écriture d'une fonction en langage C d'une part et langage Python d'autre part.*\n",
    "- En C les \"{\" et \"}\" sont essentielles pour délimiter les structures (fonction, boucles itératives, boucles conditionnelles)\n",
    "- En Python ces caractères n'apparaissent pas. C'est l'indentation qui joue le rôle de délimiteurs de structures.\n",
    "\n",
    "Le crible d'Eratosthène en Python de [Rosetta code, Sieve of Eratosthenes, Plain sieve, without any optimizations](https://rosettacode.org/wiki/Sieve_of_Eratosthenes#C):\n",
    "\n",
    "```python\n",
    "def eratosthenes2(n):\n",
    "    multiples = set()\n",
    "    for i in range(2, n+1):\n",
    "        if i not in multiples:\n",
    "            yield i\n",
    "            multiples.update(range(i*i, n+1, i))\n",
    "\n",
    "print(list(eratosthenes2(100)))\n",
    "```\n",
    "\n",
    "En comparaison, le crible d'Eratosthène en langage C de [Rosetta code, Sieve of Eratosthenes, Using set lookup](https://rosettacode.org/wiki/Category:Python):\n",
    "\n",
    "```c\n",
    "#include <stdlib.h>\n",
    "#include <math.h>\n",
    "\n",
    "char*\n",
    "eratosthenes(int n, int *c)\n",
    "{\n",
    "\tchar* sieve;\n",
    "\tint i, j, m;\n",
    "\n",
    "\tif(n < 2)\n",
    "\t\treturn NULL;\n",
    "\n",
    "\t*c = n-1;     /* primes count */\n",
    "\tm = (int) sqrt((double) n);\n",
    "\n",
    "\t/* calloc initializes to zero */\n",
    "\tsieve = calloc(n+1,sizeof(char));\n",
    "\tsieve[0] = 1;\n",
    "\tsieve[1] = 1;\n",
    "\tfor(i = 2; i <= m; i++)\n",
    "\t\tif(!sieve[i])\n",
    "\t\t\tfor (j = i*i; j <= n; j += i)\n",
    "\t\t\t\tif(!sieve[j]){\n",
    "\t\t\t\t\tsieve[j] = 1; \n",
    "\t\t\t\t\t--(*c);\n",
    "\t\t\t\t}\n",
    "  \treturn sieve;\n",
    "}\n",
    "```"
   ]
  },
  {
   "metadata": {},
   "cell_type": "markdown",
   "source": "## Espace de travail"
  },
  {
   "metadata": {},
   "cell_type": "markdown",
   "source": [
    "- Il est essentiel pour vous de créer un espace de travail propre et bien organisé. \n",
    "* Vous pouvez par exemple commencer par créer un dossier nommé \"Python\" dans votre espace de travail principal*\n",
    "- Il est **primordial** de donner des noms significatifs à vos dossiers et fichiers qui composent votre espace de travail. Éviter les noms par défaut type *Sans titre.py* ou les noms non significatifs type *Exercice1.py*\n"
   ]
  },
  {
   "metadata": {},
   "cell_type": "markdown",
   "source": "## 1. Commentaires"
  },
  {
   "metadata": {},
   "cell_type": "markdown",
   "source": "Les commentaires, essentiels à tout programme informatique *(à la fois pouvous en tant que développeur ou ppuir vos clients, collaborateurs, ...)*. \nLes commentaires sur une seule ligne sont introduits par le caractère *#*. Il suffit de placer le carcatère *#* u début du commebtaire. \n"
  },
  {
   "metadata": {
    "trusted": true
   },
   "cell_type": "code",
   "source": "#Ceci est un commentaire sur une seule ligne !",
   "execution_count": 32,
   "outputs": []
  },
  {
   "metadata": {},
   "cell_type": "markdown",
   "source": "Si votre commentaires s'écrit sur plusieurs lignes (multilignes) il faut alors utiliser les caractères *'* ou *\"* en début et fin de commentaire. Chaque caractère doit être écrit trois fois en début et en fin de commentaire. \nOn retrouve la plupart du temps, les commentaires multilignes dans les *docstrings*. Ces dernières sont une documentation de fonctions, classes, méthodes, ...  "
  },
  {
   "metadata": {
    "trusted": true
   },
   "cell_type": "code",
   "source": "'''\nCeci est un commentaire sur plusieurs lignes dit \"multilignes\", \nle caractère \" peut être utilisé dans ce commentaire \n(ex: lors d'une citation, un dialogue en discours direct).\n'''",
   "execution_count": null,
   "outputs": []
  },
  {
   "metadata": {
    "trusted": true
   },
   "cell_type": "code",
   "source": "\"\"\"\nCeci est un commentaire sur plusieurs lignes dit 'multilignes',\nle caractère ' peut être utilisé dans ce commentaire \n(ex: mot avec apostrophe comme ajourd'hui, c'est, ...)\n\"\"\"",
   "execution_count": null,
   "outputs": []
  },
  {
   "metadata": {},
   "cell_type": "markdown",
   "source": "Dans la PEP257, il est mentionné que c'est l'usage des *\"\"\"* en début et fin de dosctring qui doit être préconisé. "
  },
  {
   "metadata": {},
   "cell_type": "markdown",
   "source": "Voir: https://peps.python.org/pep-0257/#multi-line-docstrings"
  },
  {
   "metadata": {},
   "cell_type": "markdown",
   "source": "## 2. Notions de variables"
  },
  {
   "metadata": {},
   "cell_type": "markdown",
   "source": "### Définition"
  },
  {
   "metadata": {},
   "cell_type": "markdown",
   "source": [
    "- Une variable est une information, une donnée\n",
    "- Ces données sont rangées dans des cases de la RAM *Random Access Memory*\n",
    "- On y accède par une adresse mémoire"
   ]
  },
  {
   "metadata": {},
   "cell_type": "markdown",
   "source": "Pour déclarer une fonction en Python il est nécessaire de lui attribuer un nom/identifiant (cette étape est appelée la **Déclaration** de variable) et une valeur initiale  (cette étape est appelée l'**Initialisation**)"
  },
  {
   "metadata": {
    "trusted": true
   },
   "cell_type": "code",
   "source": [
    "# Declaration et initialisation de variables\n",
    "i = 10\n",
    "ma_variable = \"Python\""
   ],
   "execution_count": 1,
   "outputs": []
  },
  {
   "metadata": {
    "trusted": true
   },
   "cell_type": "code",
   "source": "i",
   "execution_count": 2,
   "outputs": [
    {
     "output_type": "execute_result",
     "execution_count": 2,
     "data": {
      "text/plain": "10"
     },
     "metadata": {}
    }
   ]
  },
  {
   "metadata": {
    "trusted": true
   },
   "cell_type": "code",
   "source": "ma_variable",
   "execution_count": 3,
   "outputs": [
    {
     "output_type": "execute_result",
     "execution_count": 3,
     "data": {
      "text/plain": "'Python'"
     },
     "metadata": {}
    }
   ]
  },
  {
   "metadata": {
    "trusted": true
   },
   "cell_type": "code",
   "source": "i, ma_variable",
   "execution_count": 4,
   "outputs": [
    {
     "output_type": "execute_result",
     "execution_count": 4,
     "data": {
      "text/plain": "(10, 'Python')"
     },
     "metadata": {}
    }
   ]
  },
  {
   "metadata": {},
   "cell_type": "markdown",
   "source": "### Types de variables"
  },
  {
   "metadata": {},
   "cell_type": "markdown",
   "source": "Il existe différents types de variables en fonction de la valeur qu'elles contiennent. "
  },
  {
   "metadata": {},
   "cell_type": "markdown",
   "source": "Ci-dessous une liste non exhaustive des principaux types de variables: \n\n|Type en Python|Signification|Exemple|\n|--------------|--------------|--------------|\n|bool|Booléen|True|\n|int|Nombre Entier|20|\n|float|Nombre à virgule| 20.2|\n|str|Chaîne de caractères|'String'|\n|tuple|N-uplet|(20, 20.2, 'string')|\n|list|Liste|[20, 20.2, 'string']|\n|dict|Dictionnaire|{'Entier': 20, 'Virgule': 20.2, 'Chaîne': 'string'}|\n\nEn python, il **n'est pas nécessaire** de préciser le type de la variable au moment de sa déclaration !"
  },
  {
   "metadata": {},
   "cell_type": "markdown",
   "source": "Python est un langage dont le typage est **dynamique**. "
  },
  {
   "metadata": {
    "trusted": true
   },
   "cell_type": "code",
   "source": "#Déclaration en Python\nun_entier = 20\n#Déclaration en C\nint un_entier = 20;",
   "execution_count": null,
   "outputs": []
  },
  {
   "metadata": {},
   "cell_type": "markdown",
   "source": "Il est possible de connaître le type d'une variable ou d'une donnée. C'est la fonction **type()** qui permet de réaliser cette action"
  },
  {
   "metadata": {
    "trusted": true
   },
   "cell_type": "code",
   "source": "un_entier = 20\nun_flottant = 20.2\nune_chaine = 'string'\nprint(type(un_entier))\nprint(type(un_flottant))\nprint(type(une_chaine))",
   "execution_count": 7,
   "outputs": [
    {
     "output_type": "stream",
     "text": "<class 'int'>\n<class 'float'>\n<class 'str'>\n",
     "name": "stdout"
    }
   ]
  },
  {
   "metadata": {},
   "cell_type": "markdown",
   "source": "### Conversion de types"
  },
  {
   "metadata": {},
   "cell_type": "markdown",
   "source": "Il existe plusieurs fonctions permettnt de forcer le type d'une variable en un autre type. "
  },
  {
   "metadata": {},
   "cell_type": "markdown",
   "source": "|Fonction Python|Description|\n|---------------|-----------|\n|int()|Permet de modifier une variable en entier|\n|float()|Permet de modifier une variable en flottant|\n|str()|Permet de modifier une variable en chaîne de caractères|\n|*eval()*|*Evalue le contenu de son argument et lui attribue un type*|\n"
  },
  {
   "metadata": {
    "trusted": true
   },
   "cell_type": "code",
   "source": "print(int(20.2))\nprint(float(20))\nprint(str(65), \"est de type: \", type(test))\nprint(type(eval('65')))",
   "execution_count": 21,
   "outputs": [
    {
     "output_type": "stream",
     "text": "20\n20.0\n65 est de type:  <class 'str'>\n<class 'int'>\n",
     "name": "stdout"
    }
   ]
  },
  {
   "metadata": {},
   "cell_type": "markdown",
   "source": "### Opérateurs arithmétiques"
  },
  {
   "metadata": {},
   "cell_type": "markdown",
   "source": "Les opérateurs arithmétiques sont utilisés pour effectuer des opérations mathémtiques comme des additions, soustractions, ... entre différentes variables ou donnée représentant des valeurs numériques.   "
  },
  {
   "metadata": {},
   "cell_type": "markdown",
   "source": "|Opérateur|Nom|Exemple|\n|---------|---------|---------|\n|+|Addition|2 + 4 = 6|\n|-|Soustraction|2 - 4 = -2|\n|\\*|Multiplication|2 \\* 4 = 8|\n|/|Division|2 / 4 = 0.5|\n|%|Modulo (reste division entière)|2 % 4 = 2|\n|\\*\\*|Puissance, exposant|2 \\*\\* 4 = 16|\n|//|Division entière|2 / 4 = 0|\n"
  },
  {
   "metadata": {},
   "cell_type": "markdown",
   "source": "**Attention aux types de données ou variables utilisées dans l'opération souhaitée !**"
  },
  {
   "metadata": {},
   "cell_type": "markdown",
   "source": "Pour vous rendre de l'utilité de certains de opérateurs sur des variables ne contenant des valeurs numériques, vous pouvez essayer avec des variables de type *str* ou *list*. Certains opérateurs ne sont utilisables qu'avec des valeurs numériques ! "
  },
  {
   "metadata": {
    "trusted": true
   },
   "cell_type": "code",
   "source": "var1 = 10\nvar2 = 5\nvar3 = \"Cours\"\nvar4 = \"Python\"\nprint(var1 + var2, \"il s'agit d'une somme ou addition\")\nprint(var3 + var4, \"Il s'agit d'une concaténation\")\nprint(var3 * 2)\nprint([var3] + [var4])\nprint([var3, var4]*2)\nprint(var1 + var3)",
   "execution_count": 22,
   "outputs": [
    {
     "output_type": "stream",
     "text": "15 il s'agit d'une somme ou addition\nCoursPython Il s'agit d'une concaténation\nCoursCours\n['Cours', 'Python']\n['Cours', 'Python', 'Cours', 'Python']\n",
     "name": "stdout"
    },
    {
     "output_type": "stream",
     "text": "Traceback (most recent call last):\n  File \"<input>\", line 10, in <module>\nTypeError: unsupported operand type(s) for +: 'int' and 'str'\n",
     "name": "stderr"
    },
    {
     "output_type": "error"
    }
   ]
  },
  {
   "metadata": {},
   "cell_type": "markdown",
   "source": "Comment réaliser des calculs plus difficiles faisant intervenir des opérateurs plus complexes comme la fonction exponentielle, logarithme, racine carrée, ..."
  },
  {
   "metadata": {},
   "cell_type": "markdown",
   "source": "Il existe une multitude de modules. Un module est un fichier contenant des définitions et des instructions. Il existe des modules pré-programmés ou pré-installés que vous pouvez utiliser librement dans votre script Python. Pour connaître les modules pré-installés, vous pouvez utilsier la fonction *help()* puis saisir *modules*. Vous avez également la possibilité de créer vos propres modules pour les intégrer dans vos projets. "
  },
  {
   "metadata": {
    "trusted": true
   },
   "cell_type": "code",
   "source": "#Exécuter la commande help() puis saisir le mot \"modules\" vous obteindrez alors la liste des modules pré-installés. \nhelp()",
   "execution_count": null,
   "outputs": []
  },
  {
   "metadata": {},
   "cell_type": "markdown",
   "source": "Pour avoir des informations sur les méthodes *fonctions* contenues dans un module en particulier, vous pouvez de nouveau utilsier la fonction *help()* puis saisir le nom du module, comme par exemple *math*."
  },
  {
   "metadata": {
    "trusted": true
   },
   "cell_type": "code",
   "source": "#Exemple avec le module math - Instruction help() puis saisir \"math\" \n#Vous obtiendrez toutes les méthodes (fonctions) qu'il contient\nhelp()",
   "execution_count": null,
   "outputs": []
  },
  {
   "metadata": {},
   "cell_type": "markdown",
   "source": "Si vous souhaitez obtenir des informations de manière plus immédiate sur une méthode *fonction* contenue dans un module en particulier vous devez importer cette méthode en précisant le module concerné puis saisir le nom de la fonction comme paramètre de la fonction *help()*"
  },
  {
   "metadata": {
    "trusted": true,
    "scrolled": true
   },
   "cell_type": "code",
   "source": "#Exemple avec la méthode sqrt() du module math\nfrom math import sqrt\nhelp(sqrt)",
   "execution_count": 27,
   "outputs": [
    {
     "output_type": "stream",
     "text": "Help on built-in function sqrt in module math:\n\nsqrt(x, /)\n    Return the square root of x.\n\n",
     "name": "stdout"
    }
   ]
  },
  {
   "metadata": {},
   "cell_type": "markdown",
   "source": "#### *Exercice 1*"
  },
  {
   "metadata": {},
   "cell_type": "markdown",
   "source": "Donnez le rôle de chacune des 3 méthodes suivantes contenues dans le module *random*\n- randint()\n- random()\n- uniform()"
  },
  {
   "metadata": {},
   "cell_type": "markdown",
   "source": "## Affichage dans le Terminal - Sortie"
  },
  {
   "metadata": {},
   "cell_type": "markdown",
   "source": "La fonction *print()* permet d'afficher dans le Terminal ou à l'écran les données renseignées en paramètres. **Un retour à la ligne est également réalisé à chaque fin d'instruction de la fonction** ***print()***. "
  },
  {
   "metadata": {},
   "cell_type": "markdown",
   "source": "*print()* permet d'afficher un texte précis désiré comme par exemple la fameuse phrase \"Hello World\" mais il est également possible d'afficher le contenu d'une variable quel que soit son type. "
  },
  {
   "metadata": {
    "trusted": true
   },
   "cell_type": "code",
   "source": "#utilisation des \"...\" = affichage du contenu des double guillemets\nprint(\"Hello World\")\n#Pas de double guillemets, juste le nom d'une variable\nprint(var1)\n#Attention si la variable n'a pas été déclarée en amont\nprint(var10000)",
   "execution_count": 30,
   "outputs": [
    {
     "output_type": "stream",
     "text": "Hello World\n10\n",
     "name": "stdout"
    },
    {
     "output_type": "stream",
     "text": "Traceback (most recent call last):\n  File \"<input>\", line 6, in <module>\nNameError: name 'var10000' is not defined\n",
     "name": "stderr"
    },
    {
     "output_type": "error"
    }
   ]
  },
  {
   "metadata": {},
   "cell_type": "markdown",
   "source": "Il est également possible d'afficher à la suite les unes des autres des chaînes de caractères et/ou contenus de variables. Si il ne s'agit que de chaînes de caractères il s'agit donc d'une concaténation, réalisée avec l'opérateur *+*. Si l'affichage concerne d'autres types de variables il est alors nécessaire de séparer les éléments par des *,*. "
  },
  {
   "metadata": {
    "trusted": true
   },
   "cell_type": "code",
   "source": "print(\"Votre premier \" + var3 + \"de\" + var4)\nprint(\"var1 contient la valeur: \", var1, \". var3 contient la valeur: \" + var3)",
   "execution_count": 31,
   "outputs": [
    {
     "output_type": "stream",
     "text": "Votre premier CoursdePython\nvar1 contient la valeur:  10 . var3 contient la valeur: Cours\n",
     "name": "stdout"
    }
   ]
  },
  {
   "metadata": {},
   "cell_type": "markdown",
   "source": "*Saurez-vous déterminer le contenu des différents affichages résultant de l'exécution du script Python ci-dessous:*"
  },
  {
   "metadata": {
    "trusted": true
   },
   "cell_type": "code",
   "source": "a = \"Je suis une chaîne.\"\nprint(type(a))\na = 12\nprint(type(a))\nprint(\"a\")\nprint(a)\nprint(\"La valeur de a est \", a)",
   "execution_count": null,
   "outputs": []
  }
 ],
 "metadata": {
  "kernelspec": {
   "name": "python3",
   "display_name": "Python 3",
   "language": "python"
  }
 },
 "nbformat": 4,
 "nbformat_minor": 2
}
