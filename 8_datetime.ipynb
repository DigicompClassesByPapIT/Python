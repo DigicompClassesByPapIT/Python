{
 "cells": [
  {
   "metadata": {},
   "cell_type": "markdown",
   "source": [
    "# The `datetime` module\n",
    "\n",
    "## Convertir une chaîne de caractères en objet `datetime`\n",
    "\n",
    "La méthode `strptime` permet de convertir une chaîne de caractères en objet `datetime`.\n",
    "Elle prend en paramètre la chaîne de caractères à convertir et le format de la chaîne de caractères."
   ],
   "id": "d2e69fcd4c02c83"
  },
  {
   "metadata": {
    "ExecuteTime": {
     "end_time": "2024-10-12T09:23:35.915895Z",
     "start_time": "2024-10-12T09:23:35.907519Z"
    }
   },
   "cell_type": "code",
   "source": [
    "from datetime import datetime\n",
    "\n",
    "# Des traces du COVID 19 trouvées par l'université de Barcelone dans des échantillons d'eaux usées datant du 12 mars 2019.\n",
    "# https://web.ub.edu/en/web/actualitat/w/sars-cov-2-detected-in-waste-waters-in-barcelona-on-march-12-2019\n",
    "first_covid_trace = datetime.strptime('2019-02-12', '%Y-%m-%d')\n",
    "print(\"COVID trace date:\", first_covid_trace)\n",
    "print(\"COVID trace year:\", first_covid_trace.year)\n",
    "print(\"COVID trace month:\", first_covid_trace.month)\n",
    "print(\"Type of the year is:\", type(first_covid_trace.year))\n",
    "# The same goes for month, day, hour, minute, second, microsecond, and tzinfo."
   ],
   "id": "d49bce22c195b361",
   "outputs": [
    {
     "name": "stdout",
     "output_type": "stream",
     "text": [
      "COVID trace date: 2019-02-12 00:00:00\n",
      "COVID trace year: 2019\n",
      "COVID trace month: 2\n",
      "Type of the year is: <class 'int'>\n"
     ]
    }
   ],
   "execution_count": 25
  },
  {
   "metadata": {},
   "cell_type": "markdown",
   "source": [
    "## Convertir un objet `datetime` en chaîne de caractères\n",
    "\n",
    "La méthode `strftime` permet de convertir un objet `datetime` en chaîne de caractères.\n",
    "Elle prend pour argument le format de la chaîne de caractères."
   ],
   "id": "3d553984ed0965a9"
  },
  {
   "metadata": {
    "ExecuteTime": {
     "end_time": "2024-10-12T09:23:35.960599Z",
     "start_time": "2024-10-12T09:23:35.952629Z"
    }
   },
   "cell_type": "code",
   "source": [
    "# First Spanish COVID case the 31 January 2020.\n",
    "first_spanish_case = datetime(2020, 1, 31)\n",
    "# The format of the string is 'YYYY-MM-DD'.\n",
    "first_spanish_case_full_date = first_spanish_case.strftime('%Y-%m-%d')\n",
    "print(\"First Spanish COVID case:\", first_spanish_case_full_date)\n",
    "first_spanish_case_month = first_spanish_case.strftime('%B')\n",
    "print(\"First Spanish COVID case month:\", first_spanish_case_month)"
   ],
   "id": "f5c34e64d291ca0e",
   "outputs": [
    {
     "name": "stdout",
     "output_type": "stream",
     "text": [
      "First Spanish COVID case: 2020-01-31\n",
      "First Spanish COVID case month: January\n"
     ]
    }
   ],
   "execution_count": 26
  },
  {
   "metadata": {},
   "cell_type": "markdown",
   "source": [
    "## La fonction `now`\n",
    "\n",
    "La fonction `now` permet de récupérer la date et l'heure actuelles."
   ],
   "id": "3a593e38367d2e17"
  },
  {
   "metadata": {
    "ExecuteTime": {
     "end_time": "2024-10-12T09:23:35.978500Z",
     "start_time": "2024-10-12T09:23:35.972559Z"
    }
   },
   "cell_type": "code",
   "source": [
    "now = datetime.now()\n",
    "print(\"Current date and time:\", now)"
   ],
   "id": "20c4eb5154c69700",
   "outputs": [
    {
     "name": "stdout",
     "output_type": "stream",
     "text": [
      "Current date and time: 2024-10-12 11:23:35.975255\n"
     ]
    }
   ],
   "execution_count": 27
  },
  {
   "metadata": {},
   "cell_type": "markdown",
   "source": [
    "### Exercice 1\n",
    "\n",
    "Développer un script appelé `32bits_bug.py` qui trouve la date à laquelle les machines 32 bits dont l'horloge va revenir à zéro quand le compteur des secondes un entier signé de 32 bits arrivera à sa valeur maximale.\n",
    "Il faut utiliser une fonction qui n'est pas dans ce notebook mais dans la documentation de la librairie `datetime` évidemment."
   ],
   "id": "12fa889c0f1900bb"
  },
  {
   "metadata": {
    "ExecuteTime": {
     "end_time": "2024-10-12T09:23:36.000515Z",
     "start_time": "2024-10-12T09:23:35.994597Z"
    }
   },
   "cell_type": "code",
   "source": [
    "# A 32 max size integer\n",
    "print(2**32)\n",
    "# Turn this second from epoch to a date.\n",
    "print(datetime.fromtimestamp(2**32/2))"
   ],
   "id": "251d6f98fe47bb12",
   "outputs": [
    {
     "name": "stdout",
     "output_type": "stream",
     "text": [
      "4294967296\n",
      "2038-01-19 04:14:08\n"
     ]
    }
   ],
   "execution_count": 28
  },
  {
   "metadata": {},
   "cell_type": "markdown",
   "source": [
    "## La fonction `timedelta`\n",
    "\n",
    "La fonction `timedelta` permet de manipuler des durées.\n",
    "Cette date doit être un objet `datetime`."
   ],
   "id": "ac84b63b5c6ae85f"
  },
  {
   "metadata": {
    "ExecuteTime": {
     "end_time": "2024-10-12T09:23:36.024348Z",
     "start_time": "2024-10-12T09:23:36.019040Z"
    }
   },
   "cell_type": "code",
   "source": [
    "from datetime import timedelta\n",
    "\n",
    "# Add a month to the first Spanish COVID case.\n",
    "first_spanish_case_plus_30_days = first_spanish_case + timedelta(days=30)\n",
    "print(\"First Spanish COVID case plus 30 days:\", first_spanish_case_plus_30_days)"
   ],
   "id": "30667f0c1a7da986",
   "outputs": [
    {
     "name": "stdout",
     "output_type": "stream",
     "text": [
      "First Spanish COVID case plus 30 days: 2020-03-01 00:00:00\n"
     ]
    }
   ],
   "execution_count": 29
  },
  {
   "metadata": {},
   "cell_type": "markdown",
   "source": [
    "## Calculer la différence entre deux dates\n",
    "\n",
    "Les opérations arithmétiques sont possibles entre deux objets `datetime`."
   ],
   "id": "9ebcf118ab6bf4d7"
  },
  {
   "metadata": {
    "ExecuteTime": {
     "end_time": "2024-10-12T09:23:36.066863Z",
     "start_time": "2024-10-12T09:23:36.059976Z"
    }
   },
   "cell_type": "code",
   "source": [
    "# Delta between first Spanish case and first COVID trace.\n",
    "delta = first_spanish_case - first_covid_trace\n",
    "print(\"Delta between first Spanish case and first COVID trace:\", delta)"
   ],
   "id": "a08dabc846f988d9",
   "outputs": [
    {
     "name": "stdout",
     "output_type": "stream",
     "text": [
      "Delta between first Spanish case and first COVID trace: 353 days, 0:00:00\n"
     ]
    }
   ],
   "execution_count": 30
  },
  {
   "metadata": {},
   "cell_type": "markdown",
   "source": "Tous les codes pour formater une date sont disponibles [dans la documentation du module](https://docs.python.org/3/library/datetime.html#strftime-and-strptime-format-codes).",
   "id": "2028bed0218c81d2"
  },
  {
   "metadata": {},
   "cell_type": "markdown",
   "source": [
    "### Exercice 2\n",
    "\n",
    "Développer un script appelé `before_eve.py` qui print le nombre de jours restants avant la fin de l'année.\n",
    "\n",
    "### Exercice 3\n",
    "\n",
    "Développer un script appelé `between_solstice.py` qui calcule le nombre de jours entre les solstices d'hiver le 21 décembre d'une année et celui d'été le 21 juin de l'année suivante.\n",
    "Il utilise `argparse` l'année du solstice d'hiver comme argument."
   ],
   "id": "8662e705094ad706"
  },
  {
   "metadata": {},
   "cell_type": "markdown",
   "source": [
    "***\n",
    "## Remarque\n",
    "Il y a bien d'autres fonctionnalités dans ce module à découvrir dans la [documentation officielle](https://docs.python.org/3/library/datetime.html)."
   ],
   "id": "6b1cb5c3ca087c16"
  }
 ],
 "metadata": {
  "kernelspec": {
   "display_name": "Python 3",
   "language": "python",
   "name": "python3"
  },
  "language_info": {
   "codemirror_mode": {
    "name": "ipython",
    "version": 2
   },
   "file_extension": ".py",
   "mimetype": "text/x-python",
   "name": "python",
   "nbconvert_exporter": "python",
   "pygments_lexer": "ipython2",
   "version": "2.7.6"
  }
 },
 "nbformat": 4,
 "nbformat_minor": 5
}
