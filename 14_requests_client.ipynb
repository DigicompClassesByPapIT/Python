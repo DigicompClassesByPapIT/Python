{
 "cells": [
  {
   "metadata": {},
   "cell_type": "markdown",
   "source": [
    "# Request pour les clients des API web\n",
    "\n",
    "Si un client Python d'une API web n'existe pas. Que cette API est bien documentée. Il est possible de créer un client pour cette API. Pour cela, il faut utiliser la librairie `requests`.\n",
    "Si l'API est documenté avec `swagger`, il faut encore mieux générer un client avec `swagger-codegen`, mais elles ne sont pas documentées dans ce format, de loin pas toutes.\n",
    "\n",
    "Dans ce notebook, nous allons voir comment créer un client pour l'API web de Digital Ocean avec `requests` en nous basant sur leur documentation https://status.digitalocean.com/api/.\n",
    "\n",
    "## Installation\n",
    "```bash\n",
    "pip install requests\n",
    "```\n"
   ],
   "id": "4f4a6af4be0ce1b5"
  },
  {
   "metadata": {
    "ExecuteTime": {
     "end_time": "2024-10-13T19:31:57.309682Z",
     "start_time": "2024-10-13T19:31:56.556562Z"
    }
   },
   "cell_type": "code",
   "source": [
    "import requests\n",
    "\n",
    "\n",
    "def get_scheduled_maintenances():\n",
    "    url = \"https://status.digitalocean.com/api/v2/scheduled-maintenances.json\"\n",
    "    response = requests.get(url)\n",
    "    return response.json()\n",
    "\n",
    "\n",
    "def get_incidents():\n",
    "    return requests.get(\n",
    "        \"https://status.digitalocean.com/api/v2/incidents.json\"\n",
    "    ).json()\n",
    "\n",
    "\n",
    "def get_status():\n",
    "    return requests.get(\n",
    "        \"https://status.digitalocean.com/api/v2/status.json\"\n",
    "    ).json()\n",
    "\n",
    "\n",
    "get_status()"
   ],
   "id": "92fa650cda76eea9",
   "outputs": [
    {
     "data": {
      "text/plain": [
       "{'page': {'id': 'w4cz49tckxhp',\n",
       "  'name': 'DigitalOcean',\n",
       "  'url': 'http://status.digitalocean.com',\n",
       "  'time_zone': 'Etc/UTC',\n",
       "  'updated_at': '2024-10-13T08:10:42.729Z'},\n",
       " 'status': {'indicator': 'none', 'description': 'All Systems Operational'}}"
      ]
     },
     "execution_count": 3,
     "metadata": {},
     "output_type": "execute_result"
    }
   ],
   "execution_count": 3
  },
  {
   "metadata": {},
   "cell_type": "markdown",
   "source": [
    "## Exercice 1\n",
    "\n",
    "Développer un client pour l'API {JSON} Placeholder https://jsonplaceholder.typicode.com/ dans un module Python appelé `jsonplaceholder.py`.\n",
    "Le module doit contenir une fonction par route de l'API :\n",
    "\n",
    "| Method | Endpoint               |\n",
    "|--------|------------------------|\n",
    "| GET    | /posts                 |\n",
    "| GET    | /posts/1               |\n",
    "| GET    | /posts/1/comments      |\n",
    "| GET    | /comments?postId=1     |\n",
    "| POST   | /posts                 |\n",
    "| PUT    | /posts/1               |\n",
    "| PATCH  | /posts/1               |\n",
    "| DELETE | /posts/1               |\n",
    "\n",
    "Chaque fonction doit retourner le résultat de la requête sous forme de dictionnaire Python.\n",
    "Tester les fonctions en les appelant depuis le Shell Python.\n",
    "\n",
    "- Attention aux commentaires\n",
    "- Attention aux noms de variables.  \n",
    "*Faites valider votre script ainsi que son exécution.*"
   ],
   "id": "b2e919ec4109af65"
  }
 ],
 "metadata": {
  "kernelspec": {
   "display_name": "Python 3",
   "language": "python",
   "name": "python3"
  },
  "language_info": {
   "codemirror_mode": {
    "name": "ipython",
    "version": 2
   },
   "file_extension": ".py",
   "mimetype": "text/x-python",
   "name": "python",
   "nbconvert_exporter": "python",
   "pygments_lexer": "ipython2",
   "version": "2.7.6"
  }
 },
 "nbformat": 4,
 "nbformat_minor": 5
}
