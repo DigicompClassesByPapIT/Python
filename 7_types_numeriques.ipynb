{
 "cells": [
  {
   "metadata": {},
   "cell_type": "markdown",
   "source": [
    "# Les types numériques\n",
    "\n",
    "Il existe de nombreux types numériques en Python, built-in ou non. Nous allons en voir les principaux, les `int` et les `float`.\n",
    "\n",
    "## Les entiers\n",
    "\n",
    "Les entiers ou `int` sont un ensemble des nombres positifs, négatifs et entiers sont des entiers.\n",
    "En Python, c'est la même chose à l'exception de la partie fractionnaire et ils ont une précision illimitée. 0, 100 et -1000 sont des littéraux entiers valides selon Python."
   ],
   "id": "f51f1e55c7fb4490"
  },
  {
   "metadata": {
    "ExecuteTime": {
     "end_time": "2024-10-09T08:04:17.945022Z",
     "start_time": "2024-10-09T08:04:17.938468Z"
    }
   },
   "cell_type": "code",
   "source": [
    "magic_number = 467434225424535\n",
    "size_in_bits = magic_number.bit_length()\n",
    "minimal_size_in_bytes = size_in_bits // 8 + 1\n",
    "print(\"This number in little endian bytes is : \",\n",
    "      magic_number.to_bytes(length=minimal_size_in_bytes, byteorder='little'))\n",
    "# turn a byte to integer\n",
    "print(\"This number in little endian bytes is : \", int.from_bytes(b'\\x97X\\xf6\\x02!\\xa9\\x01', byteorder='little'))"
   ],
   "id": "6d87776ce577ccfb",
   "outputs": [
    {
     "name": "stdout",
     "output_type": "stream",
     "text": [
      "This number in little endian bytes is :  b'\\x97X\\xf6\\x02!\\xa9\\x01'\n",
      "This number in little endian bytes is :  467434225424535\n"
     ]
    }
   ],
   "execution_count": 23
  },
  {
   "metadata": {},
   "cell_type": "markdown",
   "source": "Toutes les opérations arithmétiques sont possibles avec les entiers. Les opérateurs vu précédemment sont utilisables.",
   "id": "3d194c6f9471877e"
  },
  {
   "metadata": {
    "ExecuteTime": {
     "end_time": "2024-10-09T08:22:15.772348Z",
     "start_time": "2024-10-09T08:22:15.764867Z"
    }
   },
   "cell_type": "code",
   "source": [
    "costs = 152 + 29 + 45\n",
    "print(\"The total cost is: \", costs)\n",
    "print(\"The cost type is: \", type(costs))"
   ],
   "id": "9fe69f49a8bd0e95",
   "outputs": [
    {
     "name": "stdout",
     "output_type": "stream",
     "text": [
      "The total cost is:  226\n",
      "The cost type is:  <class 'int'>\n"
     ]
    }
   ],
   "execution_count": 30
  },
  {
   "metadata": {},
   "cell_type": "markdown",
   "source": [
    "Le type est inféré par Python, comme dans l'exemple ci-dessus. Si on ne le précise pas explicitement, Python le fera pour nous.\n",
    "Mais il est possible de le faire explicitement."
   ],
   "id": "68890f885795be1b"
  },
  {
   "metadata": {
    "ExecuteTime": {
     "end_time": "2024-10-09T08:31:09.720373Z",
     "start_time": "2024-10-09T08:31:09.711607Z"
    }
   },
   "cell_type": "code",
   "source": [
    "costs = int(152 + 29 + 45)\n",
    "print(\"The total cost is: \", costs)\n",
    "print(\"The cost type is: \", type(costs))\n",
    "# Un float inféré devient un integer\n",
    "pi = int(3.14)\n",
    "print(\"The value of pi is: \", pi)\n",
    "print(\"The type of pi is: \", type(pi))\n",
    "# Le résultat d'une division est un float\n",
    "division = 10 / 2\n",
    "print(\"The division result is: \", division)\n",
    "print(\"The division type is: \", type(division))\n",
    "# Si on a une qui dit si c'est un entier...\n",
    "print(\"I ma a integer:\", division.is_integer())\n",
    "print(\"Floor type division is: \", type(10 // 2))"
   ],
   "id": "b1cd193886240bab",
   "outputs": [
    {
     "name": "stdout",
     "output_type": "stream",
     "text": [
      "The total cost is:  226\n",
      "The cost type is:  <class 'int'>\n",
      "The value of pi is:  3\n",
      "The type of pi is:  <class 'int'>\n",
      "The division result is:  5.0\n",
      "The division type is:  <class 'float'>\n",
      "I ma a integer: True\n",
      "Floor type division is:  <class 'int'>\n"
     ]
    }
   ],
   "execution_count": 37
  },
  {
   "metadata": {},
   "cell_type": "markdown",
   "source": "",
   "id": "bc54687b3cec91a0"
  },
  {
   "metadata": {},
   "cell_type": "markdown",
   "source": [
    "## Les flottants\n",
    "\n",
    "Un fottant contient des décimales et des entiers. En Python, les nombres flottants représentent des nombres à virgule flottante en double précision au niveau machine. La plage de ces nombres est limitée par l'architecture fondamentale de la machine, en fonction de la mémoire disponible."
   ],
   "id": "f8d1318ad92cde8f"
  },
  {
   "metadata": {
    "ExecuteTime": {
     "end_time": "2024-10-09T08:38:19.445305Z",
     "start_time": "2024-10-09T08:38:19.437443Z"
    }
   },
   "cell_type": "code",
   "source": [
    "revenue = 1000\n",
    "revenue_tax = 0.2013\n",
    "revenue_left = revenue * (1 - revenue_tax)\n",
    "print(\"Le type de revenu est: \", type(revenue))\n",
    "print(\"Le type de revenu_left est: \", type(revenue_left))"
   ],
   "id": "72de1f08a0bb1136",
   "outputs": [
    {
     "name": "stdout",
     "output_type": "stream",
     "text": [
      "Le type de revenu est:  <class 'int'>\n",
      "Le type de revenu_left est:  <class 'float'>\n"
     ]
    },
    {
     "data": {
      "text/plain": [
       "(7025439496837529, 8796093022208)"
      ]
     },
     "execution_count": 50,
     "metadata": {},
     "output_type": "execute_result"
    }
   ],
   "execution_count": 50
  },
  {
   "metadata": {},
   "cell_type": "markdown",
   "source": [
    "Les flottant ne peuvent être représenté dans les registres de la machine.\n",
    "Ils sont stockés en la fraction d'entiers la plus approchante.\n",
    "Les seuls flottants exacts sont donc ceux qui peuvent être représenté en base 2.\n",
    "Il existe une méthode d'introspection pour connaître la représentation exacte d'un flottant, c'est `as_integer_ratio()`. Et une autre pour vérifier l'égalité avec le flottant le plus proche, c'est `isclose`."
   ],
   "id": "a7db28566444616b"
  },
  {
   "metadata": {
    "ExecuteTime": {
     "end_time": "2024-10-09T09:24:07.016194Z",
     "start_time": "2024-10-09T09:24:07.006340Z"
    }
   },
   "cell_type": "code",
   "source": [
    "print(\"0.2 + 0.1 == 0.3 :\", 0.2 + 0.1 == 0.3)  # Should be True\n",
    "print(\"2/10 + 1/10 == 3/10 :\", 2 / 10 + 1 / 10 == 3 / 10)  # Should be True\n",
    "print(\"1/2 + 4/16 + 1/16 == 8/16 + 4/16 +1/16 :\", 1 / 2 + 4 / 16 + 1 / 16 == 8 / 16 + 4 / 16 + 1 / 16)  # Should be True\n",
    "\n",
    "from math import log, isclose\n",
    "\n",
    "(1 / 3).as_integer_ratio()\n",
    "# Le numerateur est 6004799503160661\n",
    "numerateur, denominateur = (1 / 3).as_integer_ratio()\n",
    "# Check the equality\n",
    "print(\"Is 1/3 the closest: \", isclose(1 / 3, numerateur / 2 ** log(denominateur, 2)))  # True if the closest fraction"
   ],
   "id": "4a48e5352287b4a",
   "outputs": [
    {
     "name": "stdout",
     "output_type": "stream",
     "text": [
      "0.2 + 0.1 == 0.3 : False\n",
      "2/10 + 1/10 == 3/10 : False\n",
      "1/2 + 4/16 + 1/16 == 8/16 + 4/16 +1/16 : True\n",
      "Is 1/3 the closest:  True\n"
     ]
    }
   ],
   "execution_count": 63
  },
  {
   "metadata": {},
   "cell_type": "markdown",
   "source": [
    "## Comparaison d'un `float` et d'un `int`\n",
    "\n",
    "Il est possible de comparer un `float` et un `int` en Python. C'est leur valeur qui est comparée."
   ],
   "id": "204f8b18f17b682f"
  },
  {
   "metadata": {
    "ExecuteTime": {
     "end_time": "2024-10-09T09:19:02.746704Z",
     "start_time": "2024-10-09T09:19:02.740435Z"
    }
   },
   "cell_type": "code",
   "source": [
    "print(\"Is 1.0 equal to 1: \", 1.0 == 1)\n",
    "# Precision count\n",
    "nearly_one = 1.0000000000000001\n",
    "print(\"Is 1.0000000000000001 equal to 1: \", nearly_one == 1)\n",
    "# Because the integer ratio is:\n",
    "print(\"integer ratio: \", nearly_one.as_integer_ratio())\n"
   ],
   "id": "683ec32188275763",
   "outputs": [
    {
     "name": "stdout",
     "output_type": "stream",
     "text": [
      "Is 1.0 equal to 1:  True\n",
      "Is 1.0000000000000001 equal to 1:  True\n",
      "integer ratio:  (1, 1)\n"
     ]
    }
   ],
   "execution_count": 61
  },
  {
   "metadata": {},
   "cell_type": "markdown",
   "source": [
    "## Les booleans\n",
    "\n",
    "De manière anecdotique les booleans sont des entiers. `True` est équivalent à 1 et `False` à 0.\n",
    "Mais ils sont utilisés comme des flags et non des nombres."
   ],
   "id": "e7613b521586b59"
  },
  {
   "metadata": {
    "ExecuteTime": {
     "end_time": "2024-10-09T09:21:11.379642Z",
     "start_time": "2024-10-09T09:21:11.373939Z"
    }
   },
   "cell_type": "code",
   "source": "print(\"True + True = \", True + True)",
   "id": "32ff594beca2040f",
   "outputs": [
    {
     "name": "stdout",
     "output_type": "stream",
     "text": [
      "True + True =  2\n"
     ]
    }
   ],
   "execution_count": 62
  }
 ],
 "metadata": {
  "kernelspec": {
   "display_name": "Python 3",
   "language": "python",
   "name": "python3"
  },
  "language_info": {
   "codemirror_mode": {
    "name": "ipython",
    "version": 2
   },
   "file_extension": ".py",
   "mimetype": "text/x-python",
   "name": "python",
   "nbconvert_exporter": "python",
   "pygments_lexer": "ipython2",
   "version": "2.7.6"
  }
 },
 "nbformat": 4,
 "nbformat_minor": 5
}
