{
 "cells": [
  {
   "cell_type": "markdown",
   "metadata": {},
   "source": [
    "# Programmation Python 3 - Les fonctions"
   ]
  },
  {
   "cell_type": "markdown",
   "metadata": {},
   "source": [
    "## Définition"
   ]
  },
  {
   "cell_type": "markdown",
   "metadata": {},
   "source": [
    "La manière dont un développeur va écrire son code est un paradigme de programmation. Ainsi, un paradigme de programmation est une approche logique qu'un développeur va adopter pour résoudre son problème.  \n",
    "\n",
    "Depuis que vous travailler en langage Python, vous utilisez un paradigme impératif, en effet les étapes d'instruction se suivent jusqu'à aboutir au résultat attendu. Cette méthode de résolution consiste à réaliser des instructions les unes à la suite des autres. C'est un approche efficace pour les programmes/scripts courts avec peu d'instructions. Le code impératif (aussi appelé code procédural) n'est pas réutilisable.  \n",
    "\n",
    "Ainsi, il existe d'autres paradigmes permettant de réaliser les insctructions de la manière dont nous les souhaitons, comme par exemple le paradigme objet ou le paradigme fonctionnel.  \n",
    "\n",
    "- La programmation orientée objet consiste à modéliser son code sous forme d'objets ayant des propriétés (appelées attributs) et des capacités d'action (appelées méthodes) qui intégragissent entre eux plutôt qu'une séquence d'instructions.  \n",
    "  \n",
    "- La programmation fonctionnelle permet de décomposer un problème en un ensemble de fonctions. Dans l'idéal, les fonctions produisent des sorties à partir des entrées et ne possèdent pas d'état interne qui soit susceptible de modifier la sortie pour une entrée donnée. Le paradigme fonctionnel cherche à éviter au maximum les effets de bord, en programmation fonctionnelle on va éviter de modifier les valeurs associées à des variables globales. "
   ]
  },
  {
   "cell_type": "markdown",
   "metadata": {},
   "source": [
    "En programmation, une approche efficace d'un problème complexe revient à le décomposer en plusieurs sous-problèmes plus simples qui puevent eux-mêmes être décomposer à leur tout jusqu'à aboutir à un des sous-sous-sous...problèmes simples.  \n",
    "Il est également fréquent de vouloir répéter une même séquence d'instructions, à plusieurs reprises sans pour autant avoir à réécrire les insctructions concernées; c'est le rôle des **fonctions**. "
   ]
  },
  {
   "cell_type": "markdown",
   "metadata": {},
   "source": [
    "## Généralités"
   ]
  },
  {
   "cell_type": "markdown",
   "metadata": {},
   "source": [
    "En plus de permettre une répétition d'instructions autant de fois que désiré, les fonctions rendent le code plus lisible et plus clair.  \n",
    "Vous avez déjà utilisé des fonctions pré-programmées telles que ***len()***, ***range()*** ou même la méthode ***randint()*** du module *random*.  \n",
    "Lors de l'utilisation de ces fonctions vous avez passé aucune, une ou plusieurs variables ou valeurs entre les parenthèses, comme par exemple ***len(liste)***, ***range(2, 9, 2)*** ou ***randint(1, 100)***. Ces varaiables ou valeurs sont appelées des **arugments** et sont nécessaires à la fonction afin que celle-ci s'exécute correctement. Les argument peuvent être de n'importe quel type et sont propres à la fonction utilisée. Il est possible qu'une fonction n'ait pas besoin d'arguments.   \n",
    "\n",
    "Après l'exécution de la fonction, celle-ci peut renvoyer aucune, une ou plusieurs variables ou valeurs en sortie comme par exemple ***len(liste)*** qui renvoie une donnée numérique de type entier égale à la longueur de l'argument, ici *liste*,  ou liste.***append(4)*** qui ajoute l'argument à la fin de *liste* mais ne renvoie rien.  \n",
    "\n",
    "En général, une fonction effectue une tâche **unique** et **précise**. Il vaut mieux décomposer le programme en *X* sous-tâches appelées fonctions plutôt que de créer moitié moins de fonctions qui à elles-seules réaliser plusieurs tâches. Le code en sera d'autant plus lisible et clair. "
   ]
  },
  {
   "cell_type": "markdown",
   "metadata": {},
   "source": [
    "## Déclaration"
   ]
  },
  {
   "cell_type": "markdown",
   "metadata": {},
   "source": [
    "Pour pouvoir utiliser une fonction il faut réaliser deux actions essentielles:\n",
    "1. Déclaration de la fonction\n",
    "2. Appel de la fonction  \n",
    "\n",
    "L'appel de la fonction peut être réalisé dans la fonction elle-même, dans une autre fonction, ou dans le programme principal (il s'agit de la partie du code qui est exécuté quand le programme est lance. le programme principal se situe après les définitions de fonctions. \n"
   ]
  },
  {
   "cell_type": "markdown",
   "metadata": {},
   "source": [
    "Pour déclarer ou définir une fonction, il faut utiliser le mot-clé **def** suivi du nom que l'on souhaite donner à la fonction. **Attention, comme pour les noms de variables il est recommandé de donner des noms significatifs**.  \n",
    "\n",
    "La syntaxe d'écriture ppur déclarer une fonction est la suivante: "
   ]
  },
  {
   "cell_type": "code",
   "execution_count": null,
   "metadata": {},
   "outputs": [],
   "source": [
    "def nomSignificatifDeLaFonction(argument1, argument2, ...):\n",
    "    instruction1\n",
    "    instruction2\n",
    "    instruction3\n",
    "    ..."
   ]
  },
  {
   "cell_type": "markdown",
   "metadata": {},
   "source": [
    "Il est important de penser aux éléments suivants lors de la définition d'une fonction: \n",
    "* Ne pas oublier le mot-clé **def** en début de la définition\n",
    "* Donner un nom significatif à la fonction\n",
    "* Ne pas oublier les parenthèses même si il n'y pas d'arugments !\n",
    "* Ne pas oublier les **:** à la fin de l'instruction de définition\n",
    "* Ne pas oublier l'**indentation** pour les instructions qui composent la fonction. "
   ]
  },
  {
   "cell_type": "code",
   "execution_count": 2,
   "metadata": {},
   "outputs": [],
   "source": [
    "#Exemple de déclaration d'une fonction sans argument\n",
    "#----- Début Declaration de fonctions -----\n",
    "def message_de_bienvenue():\n",
    "    print(\"Bienvenue dans le chapitre sur les fonctions\")\n",
    "\n",
    "#----- Fin Declaration de fonctions -----"
   ]
  },
  {
   "cell_type": "markdown",
   "metadata": {},
   "source": [
    "En exécutant la cellule ci-dessus on constate que rien ne se passe, en effet seule la définition de la fonction a été réalisée. L'appel de la fonction est absent. "
   ]
  },
  {
   "cell_type": "code",
   "execution_count": 3,
   "metadata": {},
   "outputs": [
    {
     "name": "stdout",
     "output_type": "stream",
     "text": [
      "Bienvenue dans le chapitre sur les fonctions\n"
     ]
    }
   ],
   "source": [
    "#Exemple de déclaration d'une fonction sans argument\n",
    "#----- Début Declaration de fonctions -----\n",
    "def message_de_bienvenue():\n",
    "    print(\"Bienvenue dans le chapitre sur les fonctions\")\n",
    "\n",
    "\n",
    "#----- Fin Declaration de fonctions -----\n",
    "\n",
    "#----- Début Programme Principal -----\n",
    "message_de_bienvenue()\n",
    "#----- Fin Programme Principal -----"
   ]
  },
  {
   "cell_type": "markdown",
   "metadata": {},
   "source": [
    "Après appel de la fonction, on constate bien son exécution. \n",
    "Lors de l'appel de la fonction, il faut veiller à:\n",
    "* Appeler la fonction avec son nom correctement saisi\n",
    "* Ne pas oublier les parenthèses même si il n'y a pas d'arguments\n",
    "* Si il y en a, ne pas oublier les arguments dans les parenthèses"
   ]
  },
  {
   "cell_type": "code",
   "execution_count": 4,
   "metadata": {},
   "outputs": [
    {
     "name": "stdout",
     "output_type": "stream",
     "text": [
      "Bonjour\n",
      "Bonjour\n",
      "Bonjour\n"
     ]
    }
   ],
   "source": [
    "#Exemple de déclaration d'une fonction avec arguments\n",
    "#----- Début Declaration de fonctions -----\n",
    "def message_de_bienvenue(message, repetitions):\n",
    "    for i in range(repetitions):\n",
    "        print(message)\n",
    "\n",
    "\n",
    "#----- Fin Declaration de fonctions -----\n",
    "\n",
    "#----- Début Programme Principal -----\n",
    "mon_message = \"Bonjour\"\n",
    "nb_repetitions = 3\n",
    "message_de_bienvenue(mon_message, nb_repetitions)\n",
    "#----- Fin Programme Principal -----"
   ]
  },
  {
   "cell_type": "markdown",
   "metadata": {},
   "source": [
    "Les exemples que nous venons de traiter seront plus considérées comme des ***procédures*** et non de \"vraies\" fonctions. En effet, une fonction doit renvoyer une valeur lorsque celle termine de s'exécuter, ce qui engnedre que dans le programme principal la valeurs retournée doit être assignée à une variable.  \n",
    "\n",
    "C'est l'instruction **return** qui permet de renvoyer une ou plusieurs valeurs. "
   ]
  },
  {
   "cell_type": "code",
   "execution_count": 14,
   "metadata": {},
   "outputs": [
    {
     "name": "stdout",
     "output_type": "stream",
     "text": [
      "124.53\n",
      "67.19\n"
     ]
    }
   ],
   "source": [
    "#Exemple de déclaration d'une fonction retournant une valeur\n",
    "#----- Début Declaration de fonctions -----\n",
    "def additionner(nb1, nb2=30.0):\n",
    "    res = nb1 + nb2\n",
    "    return res\n",
    "\n",
    "\n",
    "#----- Fin Declaration de fonctions -----\n",
    "\n",
    "#----- Début Programme Principal -----\n",
    "val1 = 37.19\n",
    "val2 = 87.34\n",
    "ex1_somme = additionner(val1, val2)\n",
    "print(ex1_somme)\n",
    "ex2_somme = additionner(val1)\n",
    "print(ex2_somme)\n",
    "#----- Fin Programme Principal -----"
   ]
  },
  {
   "cell_type": "markdown",
   "metadata": {},
   "source": [
    "Dans l'exemple présenté ci-dessus, on constate donc que la varible *ex1_somme* prend la valeur retournée par le premier appel de fonction de *additionner* avec les valeurs *37.19* et *87.34*.  \n",
    "Pour la variable *ex2_somme* celle-ci prend la valeur retournée par le second appel de fonction mais où un seul paramètre n'est spécifié alors que deux sont nécessaires comme mentionnée dans la définition de la fonction.  \n",
    "**Dans la défintion d'une fonction, il est possible de définir une valeur par défaut des arguments**. Cette valeur définit par défaut n'est pas prioritaire et est ainsi ignorée lorsque la valeur est spécifiée lors de l'appel de fonction.  "
   ]
  },
  {
   "cell_type": "markdown",
   "metadata": {},
   "source": [
    "Afin de rendre le code plus lisible et clair, il est possible d'annoter les fonctions. Pour cela, chaque paramètre va être suivi de son type, ainsi que le type retournée par la fonction à la fin de son exécution. "
   ]
  },
  {
   "cell_type": "code",
   "execution_count": 17,
   "metadata": {},
   "outputs": [
    {
     "name": "stdout",
     "output_type": "stream",
     "text": [
      "124.53\n",
      "67.19\n"
     ]
    }
   ],
   "source": [
    "#Exemple de déclaration d'une fonction avec annotations\n",
    "#----- Début Declaration de fonctions -----\n",
    "def additionner(nb1: float, nb2: float = 30.0) -> float:\n",
    "    res = nb1 + nb2\n",
    "    return res\n",
    "\n",
    "\n",
    "#----- Fin Declaration de fonctions -----\n",
    "\n",
    "#----- Début Programme Principal -----\n",
    "val1 = 37.19\n",
    "val2 = 87.34\n",
    "ex1_somme = additionner(val1, val2)\n",
    "print(ex1_somme)\n",
    "ex2_somme = additionner(val1)\n",
    "print(ex2_somme)\n",
    "#----- Fin Programme Principal -----"
   ]
  },
  {
   "cell_type": "markdown",
   "metadata": {},
   "source": [
    "Dans l'exemple ci-dessus, on constate donc que les deux arguments doivent être tous les deux type *float* (il faut séparer le nom de la variable du type avec *:*). Le type retourné par la fonction doit lui être spécifié entre les arguments et le caractère *:* en utilisant les caractères *->* suivi du type.  \n",
    "***Attention, l'annotation de fonctions est optionnelle, ainsi lors de l'appel de la fonction le paramètre n'est pas du même type que celui mentionné dans la définition de la fonction, aucune erreur ne sera généré. C'est à la charge du développeur de vérifier que les types des paramètres sont bien conformes***.  "
   ]
  },
  {
   "cell_type": "markdown",
   "metadata": {},
   "source": [
    "## Variables globales et locales"
   ]
  },
  {
   "cell_type": "markdown",
   "metadata": {},
   "source": [
    "La portée des variables est un point important dans le paradigme fonctionnel. En effet, en fonction de l'endroit dans le script où les variables sont définies va être déterminant sur leur utilisation. En Python, une variable peut avoir une portée (espaces dans lesquels la variable est accessible) **locale** ou une portée **globale**.  "
   ]
  },
  {
   "cell_type": "markdown",
   "metadata": {},
   "source": [
    "- Une variable **globale** peut être accessible n'importe où dans le script. \n",
    "- Une variable **locale** est accessible uniquement à l'intérieur d'un bloc de code. "
   ]
  },
  {
   "cell_type": "markdown",
   "metadata": {},
   "source": [
    "**En Python, si une variable n'est pas modifiée dans une fonction mais seulement lue, elle est implicitement considérée comme globale. Si une valeur lui est affectée, elle est considérée comme locale (sauf si elle est explicitement déclaré globale)**.  \n",
    "\n",
    "L'exemple ci-dessous illustre la règle présentée ci-dessus: "
   ]
  },
  {
   "cell_type": "code",
   "execution_count": 21,
   "metadata": {},
   "outputs": [
    {
     "name": "stdout",
     "output_type": "stream",
     "text": [
      "124.53\n",
      "67.19\n",
      "Affichage valeur de la variable globale res:  0\n"
     ]
    }
   ],
   "source": [
    "# Exemple de déclaration d'une variable globale\n",
    "#----- Début déclaration variable globale -----\n",
    "res = 0\n",
    "\n",
    "\n",
    "#----- Fin déclaration variable globale -----\n",
    "\n",
    "#----- Début Declaration de fonctions -----\n",
    "def additionner(nb1: float, nb2: float = 30.0) -> float:\n",
    "    res = nb1 + nb2\n",
    "    return res\n",
    "\n",
    "\n",
    "#----- Fin Declaration de fonctions -----\n",
    "\n",
    "#----- Début Programme Principal -----\n",
    "val1 = 37.19\n",
    "val2 = 87.34\n",
    "ex1_somme = additionner(val1, val2)\n",
    "print(ex1_somme)\n",
    "ex2_somme = additionner(val1)\n",
    "print(ex2_somme)\n",
    "print(\"Affichage valeur de la variable globale res: \", res)\n",
    "#----- Fin Programme Principal -----"
   ]
  },
  {
   "cell_type": "markdown",
   "metadata": {},
   "source": [
    "Dans l'exemple on constate que la variable *res* est déclarée en variable globale. Dans le fonction *additionner*, la variable *res* se voit affecter une valeur. Cette variable porte le meme nom que la variable globale. La variable *res* définit dans la fonction est donc une variable locale et n'est accessible qu'au sein de cette fonction. Pour preuve, à la fin du programme un affichage de la variable *res* est demandé et c'est la valeur 0 qui est affichée, cette valeur étant celle assignée par défaut au moment de la déclaration de la variable globale, la valeur n'a donc pas été modifiée au sein de la fonction.  \n",
    "\n",
    "Si le souhait est de modifier la valeur de la variable globale il faut alors le déclarer explicitement comme présenté ci-dessous: "
   ]
  },
  {
   "cell_type": "code",
   "execution_count": 22,
   "metadata": {},
   "outputs": [
    {
     "name": "stdout",
     "output_type": "stream",
     "text": [
      "124.53\n",
      "67.19\n",
      "Affichage valeur de la variable globale res:  67.19\n"
     ]
    }
   ],
   "source": [
    "# Exemple de déclaration d'une variable globale\n",
    "#----- Début déclaration variable globale -----\n",
    "res = 0\n",
    "\n",
    "\n",
    "#----- Fin déclaration variable globale -----\n",
    "\n",
    "#----- Début Declaration de fonctions -----\n",
    "def additionner(nb1: float, nb2: float = 30.0) -> float:\n",
    "    global res\n",
    "    res = nb1 + nb2\n",
    "    return res\n",
    "\n",
    "\n",
    "#----- Fin Declaration de fonctions -----\n",
    "\n",
    "#----- Début Programme Principal -----\n",
    "val1 = 37.19\n",
    "val2 = 87.34\n",
    "ex1_somme = additionner(val1, val2)\n",
    "print(ex1_somme)\n",
    "ex2_somme = additionner(val1)\n",
    "print(ex2_somme)\n",
    "print(\"Affichage valeur de la variable globale res: \", res)\n",
    "#----- Fin Programme Principal -----"
   ]
  },
  {
   "cell_type": "markdown",
   "metadata": {},
   "source": [
    "L'instruction *global* permet de spécifier que la variable qui suit est une variable globale, pour preuve à la fin de l'exécution du script on constate que la valeur finale de la variable globale *res* n'est plus égale à 0 mais au résultat de l'addition opérée au sein de la fonction. "
   ]
  },
  {
   "cell_type": "markdown",
   "metadata": {},
   "source": "Toutefois, l'utilisation de l'instruction *global* est déconseillée car ce n'est pas une bonne pratique et doit dans la limite du possible être évitée. Si le but est de modifier le contenu d'une variable globale, il est préférable d'utiliser la valeur retournée par la fonction.\n"
  },
  {
   "cell_type": "markdown",
   "metadata": {},
   "source": [
    "## Docstring"
   ]
  },
  {
   "cell_type": "markdown",
   "metadata": {},
   "source": [
    "Un script Python sera plus souvent lu que écrit, en ce sens il est primordial de rendre son contenu clair, lisible afin de faciliter sa lecture et sa compréhension. En plus des noms de variables, fonctions qui doivent être significatifs, il est opportun de mettre des commentaires à tout script Python ainsi de que des spécifications à chaque fonction déclarée. Cette spécification se présente sous la forme de *docstring*. Cette documentation se présente sous la forme d'un paragraphe entouré des caractères *\"\"\"* et se situe au tout début de la définition de la fonction.  \n",
    "Il s'agit d'une spécification textuelle et doit à minima contenir les éléments suivants: \n",
    "- Une phrase présentant l'objectif de la fonction. Cette phrase doit permettre de répondre à la question \"A quoi sert cette fonction?\". \n",
    "- Préciser les types de données (arguments) ainsi que leur utilité. \n",
    "- Préciser les types de sorties (données retournées) ainsi que leur utilité.  \n",
    "\n",
    "Un exemple ci-dessous vous présentant un format RST (le plus classique) de docstring: "
   ]
  },
  {
   "cell_type": "code",
   "execution_count": 28,
   "metadata": {},
   "outputs": [
    {
     "name": "stdout",
     "output_type": "stream",
     "text": [
      "124.53\n",
      "0\n",
      "Affichage valeur de la variable globale res:  0\n"
     ]
    }
   ],
   "source": [
    "# Exemple de déclaration d'une variable globale\n",
    "#----- Début déclaration variable globale -----\n",
    "res = 0\n",
    "\n",
    "\n",
    "#----- Fin déclaration variable globale -----\n",
    "\n",
    "#----- Début Declaration de fonctions -----\n",
    "def additionner(nb1: float, nb2: float = 30.0) -> float:\n",
    "    \"\"\"Calcul d'une somme entre deux nombres\n",
    "    \n",
    "       :param nb1: Premier nombre à additionner, type float\n",
    "       :param nb2: Second nombre à additionner, type float (defaut: 30.0)\n",
    "    \n",
    "       return res: Résultat de l'addition, type float\n",
    "    \n",
    "    \"\"\"\n",
    "    res = nb1 + nb2\n",
    "    return res\n",
    "\n",
    "\n",
    "#----- Fin Declaration de fonctions -----\n",
    "\n",
    "#----- Début Programme Principal -----\n",
    "val1 = 37.19\n",
    "val2 = 87.34\n",
    "ex1_somme = additionner(val1, val2)\n",
    "print(ex1_somme)\n",
    "ex2_somme = additionner(val1)\n",
    "print(res)\n",
    "print(\"Affichage valeur de la variable globale res: \", res)\n",
    "#----- Fin Programme Principal -----"
   ]
  },
  {
   "cell_type": "markdown",
   "metadata": {},
   "source": [
    "***\n",
    "#### ***Exercice 1***"
   ]
  },
  {
   "cell_type": "markdown",
   "metadata": {},
   "source": [
    "***Des lettres et des lettres !***  \n",
    "\n",
    "Écrire un script Python en adoptant le paradigme fonctionnel et permettant au joueur de jouer à une version simplifiée du Scrabble. \n",
    "Le joueur se voit attribuer 7 lettres au hasard. Ce dernier doit ensuite former un mot avec les lettres à sa disposition. Si le mot proposé aprle joueur est possible c'est-à-dire qu'il peut être écrit à partir des lettres à sa disposition, le joueur gagne un nombre de points égale au nombre de lettres du mot. Dans le cas contraire si pas de proposition ou si le mot ne peut pas être écrit dans sa totalité avec les lettres à la disposition du joueur, ce dernier se voit attribué le score de 0. \n",
    "\n",
    "*Exemple:*  \n",
    "- Lettres à la disposition du joueur: NBJORUO\n",
    "- Proposition du joueur: JOUR -> Score = 4\n",
    "- Autre proposition du joueur: SALUT -> Score = 0                 \n",
    "  \n",
    "1. Attention aux commentaires\n",
    "2. Attention aux docstring\n",
    "3. Attention aux noms de variables.  \n",
    "\n",
    "*Faites valider votre script ainsi que son exécution.* \n",
    "***"
   ]
  },
  {
   "cell_type": "markdown",
   "metadata": {},
   "source": [
    "#### ***Exercice 2***"
   ]
  },
  {
   "cell_type": "markdown",
   "metadata": {},
   "source": [
    "En vous appuyant sur le script de l'exercice 1, écrire un script Python en adoptant le paradigme fonctionnel et permettant de jouer au scrabble. \n",
    "Les valeurs des lettres sont les suivantes: \n",
    "- 0 point: Joker (permet de remplacer n'importe quelle lettre)\n",
    "- 1 point: E, A, I, N, O, R, S, T, U, L\n",
    "- 2 points: D, G, M\n",
    "- 3 points: B, C, P\n",
    "- 4 points: F, H, V\n",
    "- 8 points: J, Q\n",
    "- 10 points: K, W, X, Y, Z  \n",
    "\n",
    "1. Attention aux commentaires\n",
    "1. Attention aux docstring\n",
    "1. Attention aux noms de variables.  \n",
    "\n",
    "*Faites valider votre script ainsi que son exécution.* \n",
    "***"
   ]
  }
 ],
 "metadata": {
  "kernelspec": {
   "display_name": "Python 3 (ipykernel)",
   "language": "python",
   "name": "python3"
  },
  "language_info": {
   "codemirror_mode": {
    "name": "ipython",
    "version": 3
   },
   "file_extension": ".py",
   "mimetype": "text/x-python",
   "name": "python",
   "nbconvert_exporter": "python",
   "pygments_lexer": "ipython3",
   "version": "3.11.5"
  }
 },
 "nbformat": 4,
 "nbformat_minor": 2
}
