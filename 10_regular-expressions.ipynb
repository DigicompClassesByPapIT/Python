{
 "cells": [
  {
   "cell_type": "markdown",
   "metadata": {},
   "source": [
    "# Expressions Régulières A.K.A RegExp \n",
    "\n",
    "Les expressions régulières sont des motifs de correspondance de texte décrits avec une syntaxe formelle. Vous entendrez souvent les expressions régulières appelées ‘regex’ ou ‘regexp’ dans les conversations.\n",
    "Les expressions régulières peuvent inclure une variété de règles, allant de la recherche de répétitions à la correspondance de texte, et bien plus encore.\n",
    "À mesure que vous progresserez en Python, vous verrez que beaucoup de vos problèmes d’analyse peuvent être résolus avec des expressions régulières.\n",
    "\n",
    "Si vous êtes familier avec Perl, vous remarquerez que la syntaxe des expressions régulières est très similaire en Python. Nous utiliserons le module re avec Python pour ce cours.\n",
    "De nombreux sites en ligne permettent de les tester dans un environnement user friendly avec une cheat sheet pour vous aider à comprendre les expressions régulières. Voir par exemple [regex101](https://pythex.org/)."
   ]
  },
  {
   "cell_type": "markdown",
   "metadata": {},
   "source": [
    "## Chercher un motif (pattern) dans du texte\n",
    "\n",
    "L’une des utilisations les plus courantes du module re est la recherche de motifs dans le texte. Faisons un rapide exemple en utilisant la méthode `search` du module `re` pour trouver du texte :"
   ]
  },
  {
   "cell_type": "code",
   "metadata": {
    "collapsed": false,
    "ExecuteTime": {
     "end_time": "2024-10-12T15:03:31.510434Z",
     "start_time": "2024-10-12T15:03:31.481811Z"
    }
   },
   "source": [
    "import re\n",
    "\n",
    "# List of patterns to search for\n",
    "patterns = ['term1', 'term2']\n",
    "\n",
    "# Text to parse\n",
    "text = 'This is a string with term1, but it does not have the other term.'\n",
    "\n",
    "for pattern in patterns:\n",
    "    print('Searching for \"%s\" in: \\n\"%s\"' % (pattern, text))\n",
    "\n",
    "    #Check for match\n",
    "    if re.search(pattern, text):\n",
    "        print('\\n')\n",
    "        print('Match was found. \\n')\n",
    "    else:\n",
    "        print('\\n')\n",
    "        print('No Match was found.\\n')"
   ],
   "outputs": [
    {
     "name": "stdout",
     "output_type": "stream",
     "text": [
      "Searching for \"term1\" in: \n",
      "\"This is a string with term1, but it does not have the other term.\"\n",
      "\n",
      "\n",
      "Match was found. \n",
      "\n",
      "Searching for \"term2\" in: \n",
      "\"This is a string with term1, but it does not have the other term.\"\n",
      "\n",
      "\n",
      "No Match was found.\n",
      "\n"
     ]
    }
   ],
   "execution_count": 35
  },
  {
   "cell_type": "markdown",
   "metadata": {},
   "source": "Nous avons maintenant vu que `re.search()` prendra le motif, analysera le texte, puis renverra un objet Match. Si aucun motif n’est trouvé, `None` est renvoyé. Pour donner une image plus claire de cet objet match, consultez la cellule ci-dessous :"
  },
  {
   "cell_type": "code",
   "metadata": {
    "collapsed": false,
    "ExecuteTime": {
     "end_time": "2024-10-12T15:03:31.602261Z",
     "start_time": "2024-10-12T15:03:31.591725Z"
    }
   },
   "source": [
    "# List of patterns to search for\n",
    "pattern = 'term1'\n",
    "\n",
    "# Text to parse\n",
    "text = 'This is a string with term1, but it does not have the other term.'\n",
    "\n",
    "match = re.search(pattern, text)\n",
    "\n",
    "type(match)"
   ],
   "outputs": [
    {
     "data": {
      "text/plain": [
       "re.Match"
      ]
     },
     "execution_count": 36,
     "metadata": {},
     "output_type": "execute_result"
    }
   ],
   "execution_count": 36
  },
  {
   "cell_type": "markdown",
   "metadata": {},
   "source": "Cet objet Match renvoyé par la méthode `search()` est plus qu’un simple booléen ou `None`, il contient des informations sur la correspondance, y compris la chaîne d’entrée originale, l’expression régulière utilisée et l’emplacement de la correspondance. Voyons les méthodes que nous pouvons utiliser sur l’objet `match`~:"
  },
  {
   "cell_type": "code",
   "metadata": {
    "collapsed": false,
    "ExecuteTime": {
     "end_time": "2024-10-12T15:03:31.634511Z",
     "start_time": "2024-10-12T15:03:31.626019Z"
    }
   },
   "source": [
    "# Show start of match\n",
    "match.start()"
   ],
   "outputs": [
    {
     "data": {
      "text/plain": [
       "22"
      ]
     },
     "execution_count": 37,
     "metadata": {},
     "output_type": "execute_result"
    }
   ],
   "execution_count": 37
  },
  {
   "cell_type": "code",
   "metadata": {
    "collapsed": false,
    "ExecuteTime": {
     "end_time": "2024-10-12T15:03:31.683679Z",
     "start_time": "2024-10-12T15:03:31.675895Z"
    }
   },
   "source": [
    "# Show end\n",
    "match.end()"
   ],
   "outputs": [
    {
     "data": {
      "text/plain": [
       "27"
      ]
     },
     "execution_count": 38,
     "metadata": {},
     "output_type": "execute_result"
    }
   ],
   "execution_count": 38
  },
  {
   "metadata": {},
   "cell_type": "markdown",
   "source": [
    "### les groups de match\n",
    "\n",
    "Les groupes de `match` vous permettent d'extraire les chaînes de caractères qui match les **motifs entre parenthèses**, et il y a des méthodes intégrées pour les récupérer. Regardons un exemple rapide pour voir comment fonctionne la méthode `groups` :"
   ]
  },
  {
   "metadata": {
    "ExecuteTime": {
     "end_time": "2024-10-12T15:03:31.729091Z",
     "start_time": "2024-10-12T15:03:31.722650Z"
    }
   },
   "cell_type": "code",
   "source": [
    "ip_pattern = re.compile(r'(\\d{1,3}).(\\d{1,3}).(\\d{1,3}).(\\d{1,3})')\n",
    "match = re.search(ip_pattern, '192.1.1.3')\n",
    "groups = match.groups()\n",
    "# Groups are\n",
    "print(\"All groups: \", groups)\n",
    "print(\"Types is a tuple: \", type(groups))  # Immutable it cannot change..."
   ],
   "outputs": [
    {
     "name": "stdout",
     "output_type": "stream",
     "text": [
      "All groups:  ('192', '1', '1', '3')\n",
      "Types is a tuple:  <class 'tuple'>\n"
     ]
    }
   ],
   "execution_count": 39
  },
  {
   "cell_type": "markdown",
   "metadata": {},
   "source": [
    "## Split avec RegExp\n",
    "\n",
    "Voyons comment nous pouvons diviser avec la syntaxe `re`. Cela devrait ressembler à la façon dont vous avez utilisé la méthode `split()` avec les chaînes de caractères."
   ]
  },
  {
   "cell_type": "code",
   "metadata": {
    "collapsed": false,
    "ExecuteTime": {
     "end_time": "2024-10-12T15:03:31.811364Z",
     "start_time": "2024-10-12T15:03:31.804277Z"
    }
   },
   "source": [
    "# Term to split on\n",
    "split_term = '@'\n",
    "\n",
    "phrase = 'What is the domain name of someone with the email: hello@gmail.com'\n",
    "\n",
    "# Split the phrase\n",
    "re.split(split_term, phrase)"
   ],
   "outputs": [
    {
     "data": {
      "text/plain": [
       "['What is the domain name of someone with the email: hello', 'gmail.com']"
      ]
     },
     "execution_count": 40,
     "metadata": {},
     "output_type": "execute_result"
    }
   ],
   "execution_count": 40
  },
  {
   "metadata": {},
   "cell_type": "markdown",
   "source": [
    "## La substitution\n",
    "\n",
    "Vous pouvez également utiliser `re` pour trouver et remplacer des sous-chaînes dans une chaîne. Par exemple :"
   ]
  },
  {
   "metadata": {
    "ExecuteTime": {
     "end_time": "2024-10-12T15:11:58.640171Z",
     "start_time": "2024-10-12T15:11:58.634603Z"
    }
   },
   "cell_type": "code",
   "source": [
    "# Anonymize an Ip in a log file\n",
    "log_line = \"2023-03-05 23:36:53,572 vps19562 proftpX[671166] vps19562.dreamhostps.com (textgenerator.scan.leakix.org[139.144.150.205]): client sent HTTP command 'GET', disconnecting\"\n",
    "anonymize_log_line = re.sub(ip_pattern, 'XXX.XXX.XXX.XXX', log_line)\n",
    "print(anonymize_log_line)"
   ],
   "outputs": [
    {
     "name": "stdout",
     "output_type": "stream",
     "text": [
      "XXX.XXX.XXX.XXX XXX.XXX.XXX.XXX vps19562 proftpX[671166] vps19562.dreamhostps.com (textgenerator.scan.leakix.org[XXX.XXX.XXX.XXX]): client sent HTTP command 'GET', disconnecting\n"
     ]
    }
   ],
   "execution_count": 50
  },
  {
   "cell_type": "markdown",
   "metadata": {},
   "source": [
    "Notez comment `re.split()` renvoie une liste avec le terme sur lequel diviser supprimé et les termes dans la liste sont une version divisée de la chaîne. Créez quelques exemples supplémentaires pour vous assurer que vous comprenez bien !\n",
    "\n",
    "## Trouver toutes les occurrences d'un motif\n",
    "\n",
    "Vous pouvez utiliser `re.findall()` pour trouver toutes les occurrences d’un motif dans une chaîne. Par exemple :"
   ]
  },
  {
   "cell_type": "code",
   "metadata": {
    "collapsed": false,
    "ExecuteTime": {
     "end_time": "2024-10-12T15:03:31.838Z",
     "start_time": "2024-10-12T15:03:31.830472Z"
    }
   },
   "source": [
    "# Returns a list of all matches\n",
    "re.findall('match', 'test phrase match is in middle')"
   ],
   "outputs": [
    {
     "data": {
      "text/plain": [
       "['match']"
      ]
     },
     "execution_count": 41,
     "metadata": {},
     "output_type": "execute_result"
    }
   ],
   "execution_count": 41
  },
  {
   "cell_type": "markdown",
   "metadata": {},
   "source": [
    "## Pattern `re` Syntax\n",
    "\n",
    "Les expressions régulières prennent en charge une grande variété de motifs, pas seulement la recherche de l’occurrence d’une seule chaîne.\n",
    "\n",
    "Nous pouvons utiliser des métacaractères avec re pour trouver des types spécifiques de motifs.\n",
    "\n",
    "Puisque nous allons tester plusieurs formes de syntaxe re, créons une fonction qui affichera les résultats en fonction d’une liste de diverses expressions régulières et d’une phrase à analyser :"
   ]
  },
  {
   "cell_type": "code",
   "metadata": {
    "collapsed": true,
    "ExecuteTime": {
     "end_time": "2024-10-12T15:03:31.923896Z",
     "start_time": "2024-10-12T15:03:31.915237Z"
    }
   },
   "source": [
    "def multi_re_find(patterns, phrase):\n",
    "    '''\n",
    "    Takes in a list of regex patterns\n",
    "    Prints a list of all matches\n",
    "    '''\n",
    "    for pattern in patterns:\n",
    "        print('Searching the phrase using the re check: %r' % pattern)\n",
    "        print(re.findall(pattern, phrase))"
   ],
   "outputs": [],
   "execution_count": 42
  },
  {
   "cell_type": "markdown",
   "metadata": {},
   "source": [
    "### Syntaxe des répétitions\n",
    "\n",
    "Il existe cinq façons d’exprimer la répétition dans un motif :\n",
    "\n",
    "* Un motif suivi du métacaractère `*` est répété zéro ou plusieurs fois.\n",
    "* Remplacez le `*` par `+` et le motif doit apparaître au moins une fois.\n",
    "* Utiliser `?` signifie que le motif apparaît zéro ou une fois.\n",
    "* Pour un nombre spécifique d’occurrences, utilisez `{m}` après le motif, où `m` est remplacé par le nombre de fois que le motif doit se répéter.\n",
    "* Utilisez `{m,n}` où `m` est le nombre minimum de répétitions et `n` est le maximum. Omettre `n` `{m,}` signifie que la valeur apparaît au moins `m` fois, sans maximum.\n",
    "\n",
    "Nous allons maintenant voir un exemple de chacune de ces méthodes en utilisant notre fonction `multi_re_find` :"
   ]
  },
  {
   "cell_type": "code",
   "metadata": {
    "collapsed": false,
    "ExecuteTime": {
     "end_time": "2024-10-12T15:03:31.963175Z",
     "start_time": "2024-10-12T15:03:31.955391Z"
    }
   },
   "source": [
    "test_phrase = 'sdsd..sssddd...sdddsddd...dsds...dsssss...sdddd'\n",
    "\n",
    "test_patterns = ['sd*',  # s followed by zero or more d's\n",
    "                 'sd+',  # s followed by one or more d's\n",
    "                 'sd?',  # s followed by zero or one d's\n",
    "                 'sd{3}',  # s followed by three d's\n",
    "                 'sd{2,3}',  # s followed by two to three d's\n",
    "                 ]\n",
    "\n",
    "multi_re_find(test_patterns, test_phrase)"
   ],
   "outputs": [
    {
     "name": "stdout",
     "output_type": "stream",
     "text": [
      "Searching the phrase using the re check: 'sd*'\n",
      "['sd', 'sd', 's', 's', 'sddd', 'sddd', 'sddd', 'sd', 's', 's', 's', 's', 's', 's', 'sdddd']\n",
      "Searching the phrase using the re check: 'sd+'\n",
      "['sd', 'sd', 'sddd', 'sddd', 'sddd', 'sd', 'sdddd']\n",
      "Searching the phrase using the re check: 'sd?'\n",
      "['sd', 'sd', 's', 's', 'sd', 'sd', 'sd', 'sd', 's', 's', 's', 's', 's', 's', 'sd']\n",
      "Searching the phrase using the re check: 'sd{3}'\n",
      "['sddd', 'sddd', 'sddd', 'sddd']\n",
      "Searching the phrase using the re check: 'sd{2,3}'\n",
      "['sddd', 'sddd', 'sddd', 'sddd']\n"
     ]
    }
   ],
   "execution_count": 43
  },
  {
   "cell_type": "markdown",
   "metadata": {},
   "source": [
    "## Les ensembles de caractères\n",
    "\n",
    "Les ensembles de caractères sont utilisés lorsque vous souhaitez correspondre à l’un des caractères d’un groupe à un point donné de l’entrée. Les crochets sont utilisés pour construire des ensembles de caractères. Par exemple : l’entrée [ab] recherche les occurrences de a ou b."
   ]
  },
  {
   "cell_type": "code",
   "metadata": {
    "collapsed": false,
    "ExecuteTime": {
     "end_time": "2024-10-12T15:03:32.041188Z",
     "start_time": "2024-10-12T15:03:32.035870Z"
    }
   },
   "source": [
    "test_phrase = 'sdsd..sssddd...sdddsddd...dsds...dsssss...sdddd'\n",
    "\n",
    "test_patterns = ['[sd]',  # either s or d\n",
    "                 's[sd]+']  # s followed by one or more s or d\n",
    "\n",
    "multi_re_find(test_patterns, test_phrase)"
   ],
   "outputs": [
    {
     "name": "stdout",
     "output_type": "stream",
     "text": [
      "Searching the phrase using the re check: '[sd]'\n",
      "['s', 'd', 's', 'd', 's', 's', 's', 'd', 'd', 'd', 's', 'd', 'd', 'd', 's', 'd', 'd', 'd', 'd', 's', 'd', 's', 'd', 's', 's', 's', 's', 's', 's', 'd', 'd', 'd', 'd']\n",
      "Searching the phrase using the re check: 's[sd]+'\n",
      "['sdsd', 'sssddd', 'sdddsddd', 'sds', 'sssss', 'sdddd']\n"
     ]
    }
   ],
   "execution_count": 44
  },
  {
   "cell_type": "markdown",
   "metadata": {},
   "source": "Le premier `[sd]` renvoie chaque instance. De plus, la deuxième entrée renverra simplement tout ce qui commence par un `s` dans ce cas, particulier de la phrase de test."
  },
  {
   "cell_type": "markdown",
   "metadata": {},
   "source": [
    "## Exclusion\n",
    "\n",
    "Nous pouvons utiliser `^` pour exclure des termes en l’incorporant dans la notation de syntaxe entre crochets. Par exemple : `[^…]` correspondra à n’importe quel caractère unique qui n’est pas dans les crochets. Voyons quelques exemples :"
   ]
  },
  {
   "cell_type": "code",
   "metadata": {
    "collapsed": true,
    "ExecuteTime": {
     "end_time": "2024-10-12T15:03:32.072578Z",
     "start_time": "2024-10-12T15:03:32.067416Z"
    }
   },
   "source": [
    "test_phrase = 'This is a string! But it has punctuation. How can we remove it?'"
   ],
   "outputs": [],
   "execution_count": 45
  },
  {
   "cell_type": "markdown",
   "metadata": {},
   "source": "Utilisez `[^!.? ]` pour vérifier les correspondances qui ne sont pas un `!`, `.`, `?`, ou un espace. Ajoutez le `+` pour vérifier que la correspondance apparaît au moins une fois, ce qui se traduit essentiellement par la recherche des mots."
  },
  {
   "cell_type": "code",
   "metadata": {
    "collapsed": false,
    "ExecuteTime": {
     "end_time": "2024-10-12T15:03:32.154224Z",
     "start_time": "2024-10-12T15:03:32.145937Z"
    }
   },
   "source": "re.findall('[^!.? ]+', test_phrase)",
   "outputs": [
    {
     "data": {
      "text/plain": [
       "['This',\n",
       " 'is',\n",
       " 'a',\n",
       " 'string',\n",
       " 'But',\n",
       " 'it',\n",
       " 'has',\n",
       " 'punctuation',\n",
       " 'How',\n",
       " 'can',\n",
       " 'we',\n",
       " 'remove',\n",
       " 'it']"
      ]
     },
     "execution_count": 46,
     "metadata": {},
     "output_type": "execute_result"
    }
   ],
   "execution_count": 46
  },
  {
   "cell_type": "markdown",
   "metadata": {},
   "source": [
    "## Les intervals\n",
    "\n",
    "À mesure que les ensembles de caractères deviennent plus grands, taper chaque caractère qui doit (ou ne doit pas) correspondre peut devenir très fastidieux. Un format plus compact utilisant des plages de caractères vous permet de définir un ensemble de caractères pour inclure tous les caractères contigus entre un point de départ et un point d’arrêt. Le format utilisé est `[<début>-<fin>]`.\n",
    "\n",
    "Les cas d’utilisation courants consistent à rechercher une plage spécifique de lettres dans l’alphabet, par exemple `[a-f]` renverra des correspondances avec toute occurrence de lettres entre `a` et `f`.\n",
    "\n",
    "Quelques exemples :"
   ]
  },
  {
   "cell_type": "code",
   "metadata": {
    "collapsed": false,
    "ExecuteTime": {
     "end_time": "2024-10-12T15:03:32.173879Z",
     "start_time": "2024-10-12T15:03:32.167252Z"
    }
   },
   "source": [
    "\n",
    "test_phrase = 'This is an example sentence. Lets see if we can find some letters.'\n",
    "\n",
    "test_patterns = ['[a-z]+',  # sequences of lower case letters\n",
    "                 '[A-Z]+',  # sequences of upper case letters\n",
    "                 '[a-zA-Z]+',  # sequences of lower or upper case letters\n",
    "                 '[A-Z][a-z]+']  # one upper case letter followed by lower case letters\n",
    "\n",
    "multi_re_find(test_patterns, test_phrase)"
   ],
   "outputs": [
    {
     "name": "stdout",
     "output_type": "stream",
     "text": [
      "Searching the phrase using the re check: '[a-z]+'\n",
      "['his', 'is', 'an', 'example', 'sentence', 'ets', 'see', 'if', 'we', 'can', 'find', 'some', 'letters']\n",
      "Searching the phrase using the re check: '[A-Z]+'\n",
      "['T', 'L']\n",
      "Searching the phrase using the re check: '[a-zA-Z]+'\n",
      "['This', 'is', 'an', 'example', 'sentence', 'Lets', 'see', 'if', 'we', 'can', 'find', 'some', 'letters']\n",
      "Searching the phrase using the re check: '[A-Z][a-z]+'\n",
      "['This', 'Lets']\n"
     ]
    }
   ],
   "execution_count": 47
  },
  {
   "cell_type": "markdown",
   "metadata": {},
   "source": [
    "## Échappements\n",
    "\n",
    "Vous pouvez utiliser des codes d’échappement spéciaux pour trouver des types spécifiques de motifs dans vos données, tels que des chiffres, des non-chiffres, des espaces blancs, et plus encore. Par exemple :\n",
    "\n",
    "| Code | Meaning                                |\n",
    "|------|----------------------------------------|\n",
    "| \\d   | a digit                                |\n",
    "| \\D   | a non-digit                            |\n",
    "| \\s   | whitespace (tab, space, newline, etc.) |\n",
    "| \\S   | non-whitespace                         |\n",
    "| \\w   | alphanumeric                           |\n",
    "| \\W   | non-alphanumeric                       |\n",
    "\n",
    "\n",
    "Les échappements sont indiqués en préfixant le caractère avec une barre oblique inverse `\\`. Malheureusement, une barre oblique inverse doit elle-même être échappée dans les chaînes Python normales, ce qui donne des expressions difficiles à lire. Utiliser des chaînes brutes, créées en préfixant la valeur littérale avec `r`, pour créer des expressions régulières élimine ce problème et maintient la lisibilité."
   ]
  },
  {
   "cell_type": "code",
   "metadata": {
    "collapsed": false,
    "ExecuteTime": {
     "end_time": "2024-10-12T15:03:32.240168Z",
     "start_time": "2024-10-12T15:03:32.233732Z"
    }
   },
   "source": [
    "test_phrase = 'This is a string with some numbers 1233 and a symbol #hashtag'\n",
    "\n",
    "test_patterns = [r'\\d+',  # sequence of digits\n",
    "                 r'\\D+',  # sequence of non-digits\n",
    "                 r'\\s+',  # sequence of whitespace\n",
    "                 r'\\S+',  # sequence of non-whitespace\n",
    "                 r'\\w+',  # alphanumeric characters\n",
    "                 r'\\W+',  # non-alphanumeric\n",
    "                 ]\n",
    "\n",
    "multi_re_find(test_patterns, test_phrase)"
   ],
   "outputs": [
    {
     "name": "stdout",
     "output_type": "stream",
     "text": [
      "Searching the phrase using the re check: '\\\\d+'\n",
      "['1233']\n",
      "Searching the phrase using the re check: '\\\\D+'\n",
      "['This is a string with some numbers ', ' and a symbol #hashtag']\n",
      "Searching the phrase using the re check: '\\\\s+'\n",
      "[' ', ' ', ' ', ' ', ' ', ' ', ' ', ' ', ' ', ' ', ' ']\n",
      "Searching the phrase using the re check: '\\\\S+'\n",
      "['This', 'is', 'a', 'string', 'with', 'some', 'numbers', '1233', 'and', 'a', 'symbol', '#hashtag']\n",
      "Searching the phrase using the re check: '\\\\w+'\n",
      "['This', 'is', 'a', 'string', 'with', 'some', 'numbers', '1233', 'and', 'a', 'symbol', 'hashtag']\n",
      "Searching the phrase using the re check: '\\\\W+'\n",
      "[' ', ' ', ' ', ' ', ' ', ' ', ' ', ' ', ' ', ' ', ' #']\n"
     ]
    }
   ],
   "execution_count": 48
  },
  {
   "metadata": {},
   "cell_type": "markdown",
   "source": [
    "## Conclusion\n",
    "\n",
    "Il existe de nombreux autres cas de caractères spéciaux, mais il serait trop long de passer en revue chaque cas d’utilisation. Consultez plutôt une cheat sheet comme https://cheatography.com/davechild/cheat-sheets/regular-expressions/ ou autre.\n",
    "\n",
    "### Exercice 1\n",
    "\n",
    "Dans un Shell, trouver les mots qui commencent par une lettre majuscule dans la phrase suivante :\n",
    "    \n",
    "    \"Le chat est monté sur le toit. Il a vu un oiseau et a sauté pour l'attraper.\""
   ]
  },
  {
   "metadata": {},
   "cell_type": "markdown",
   "source": [
    "### Exercice 2\n",
    "\n",
    "Développer un programme appelé `log_parser.py` qui parse le fichier `proftpd.log.1` pour en extraire les dates et heures et les IP et/ou IP et nom de domaine des serveurs ayant fait une tentative de connexion. Utilisez les groupes.\n",
    "\n",
    "- Attention aux commentaires\n",
    "- Attention aux noms de variables.  \n",
    "*Faites valider votre script ainsi que son exécution*. "
   ]
  }
 ],
 "metadata": {
  "kernelspec": {
   "display_name": "Python 3 (ipykernel)",
   "language": "python",
   "name": "python3"
  },
  "language_info": {
   "codemirror_mode": {
    "name": "ipython",
    "version": 2
   },
   "file_extension": ".py",
   "mimetype": "text/x-python",
   "name": "python",
   "nbconvert_exporter": "python",
   "pygments_lexer": "ipython2",
   "version": "2.7.10"
  }
 },
 "nbformat": 4,
 "nbformat_minor": 0
}
